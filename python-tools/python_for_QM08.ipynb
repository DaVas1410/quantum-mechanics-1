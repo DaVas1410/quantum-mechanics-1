{
  "cells": [
    {
      "cell_type": "markdown",
      "metadata": {
        "id": "view-in-github",
        "colab_type": "text"
      },
      "source": [
        "<a href=\"https://colab.research.google.com/github/wbandabarragan/quantum-mechanics-1/blob/main/python-tools/python_for_QM08.ipynb\" target=\"_parent\"><img src=\"https://colab.research.google.com/assets/colab-badge.svg\" alt=\"Open In Colab\"/></a>"
      ]
    },
    {
      "cell_type": "markdown",
      "id": "db574934",
      "metadata": {
        "id": "db574934"
      },
      "source": [
        "# Tutorial 8: Python for Quantum Mechanics\n",
        "\n",
        "## Exercise: solving eigenvalue problems\n",
        "\n",
        "$$\\newcommand{\\ket}[1]{\\left|{#1}\\right\\rangle}$$\n",
        "$$\\newcommand{\\bra}[1]{\\left\\langle{#1}\\right|}$$\n",
        "$$\\newcommand{\\braket}[2]{\\left\\langle{#1}\\middle|{#2}\\right\\rangle}$$\n",
        "\n",
        "Consider a quantum system in a state, $\\ket{\\Psi}$:\n",
        "\n",
        "$\\Psi = \\frac{1}{\\sqrt{3}}\\left[\\begin{array}{@{}c@{}}\n",
        "    i \\\\\n",
        "    -i \\\\\n",
        "    i\n",
        "    \\end{array} \\right]$\n",
        "    \n",
        "The Hamiltonian is represented by the matrix shown below:\n",
        "\n",
        "\n",
        "$\\hat{H} = \\left[\\begin{array}{@{ }c@{\\kern2em} c@{\\kern2em} c@{ }}\n",
        "2 & 1 & 0\\\\\n",
        "1 & 2 & 0\\\\\n",
        "0 & 0 & 3\n",
        "\\end{array} \\right]$\n",
        "\n",
        "(a) Determine the eigenvalues and eigenvectors of $\\hat{H}$. What do the eigenvalues represent?\n",
        "\n",
        "\n",
        "(b) Which eigenvalue of $\\hat{H}$ is most likely to emerge from a measurement?\n",
        "\n",
        "\n",
        "(c) Find $\\langle H \\rangle$, $\\langle H^2 \\rangle$, and $\\sigma_H$.\n"
      ]
    },
    {
      "cell_type": "markdown",
      "id": "a07303bc",
      "metadata": {
        "id": "a07303bc"
      },
      "source": [
        "### Solution:\n",
        "\n",
        "(a) Determine the eigenvalues and eigenvectors of $\\hat{H}$. What do the eigenvalues represent?\n",
        "\n",
        "$\\hat{H} = \\left[\\begin{array}{@{ }c@{\\kern2em} c@{\\kern2em} c@{ }}\n",
        "2 & 1 & 0\\\\\n",
        "1 & 2 & 0\\\\\n",
        "0 & 0 & 3\n",
        "\\end{array} \\right]$"
      ]
    },
    {
      "cell_type": "code",
      "source": [
        "import numpy as np"
      ],
      "metadata": {
        "id": "O9CnhgYOFA9z"
      },
      "id": "O9CnhgYOFA9z",
      "execution_count": 1,
      "outputs": []
    },
    {
      "cell_type": "code",
      "source": [
        "# Define the matrix for H\n",
        "\n",
        "hamiltonian_matrix = np.array([[2., 1., 0.], [1., 2., 0.], [0., 0., 3.]])\n",
        "\n",
        "print(hamiltonian_matrix)\n",
        "print(\"\\n\")\n",
        "print(hamiltonian_matrix.shape)"
      ],
      "metadata": {
        "colab": {
          "base_uri": "https://localhost:8080/"
        },
        "id": "kce1xFpCFBKX",
        "outputId": "c3c53e4f-9515-4d37-b2f9-1298b2e9741b"
      },
      "id": "kce1xFpCFBKX",
      "execution_count": 5,
      "outputs": [
        {
          "output_type": "stream",
          "name": "stdout",
          "text": [
            "[[2. 1. 0.]\n",
            " [1. 2. 0.]\n",
            " [0. 0. 3.]]\n",
            "\n",
            "\n",
            "(3, 3)\n"
          ]
        }
      ]
    },
    {
      "cell_type": "code",
      "source": [
        "# Calculate the eigenvalues and eigenvectors np.linalg.eig(M)\n",
        "\n",
        "w_eigenvalues, v_eigvectors = np.linalg.eig(hamiltonian_matrix)\n",
        "\n",
        "print(\"Eigenvalue 1: \", w_eigenvalues[0], \"with corresponding eigenvector 1: \", v_eigvectors[0])\n",
        "print(\"Eigenvalue 2: \", w_eigenvalues[1], \"with corresponding eigenvector 2: \", v_eigvectors[1])\n",
        "print(\"Eigenvalue 3: \", w_eigenvalues[2], \"with corresponding eigenvector 3: \", v_eigvectors[2])"
      ],
      "metadata": {
        "colab": {
          "base_uri": "https://localhost:8080/"
        },
        "id": "zgNK-BW7Fwet",
        "outputId": "980d293e-c14b-4e7b-fca4-7eb2ead2ba5d"
      },
      "id": "zgNK-BW7Fwet",
      "execution_count": 6,
      "outputs": [
        {
          "output_type": "stream",
          "name": "stdout",
          "text": [
            "Eigenvalue 1:  3.0 with corresponding eigenvector 1:  [ 0.70710678 -0.70710678  0.        ]\n",
            "Eigenvalue 2:  1.0 with corresponding eigenvector 2:  [0.70710678 0.70710678 0.        ]\n",
            "Eigenvalue 3:  3.0 with corresponding eigenvector 3:  [0. 0. 1.]\n"
          ]
        }
      ]
    },
    {
      "cell_type": "markdown",
      "id": "ed338d07",
      "metadata": {
        "id": "ed338d07"
      },
      "source": [
        "(b) Which eigenvalue of $\\hat{H}$ is most likely to emerge from a measurement?\n",
        "\n",
        "$\\Psi = \\frac{1}{\\sqrt{3}}\\left[\\begin{array}{@{}c@{}}\n",
        "    i \\\\\n",
        "    -i \\\\\n",
        "    i\n",
        "    \\end{array} \\right]$\n",
        "\n"
      ]
    },
    {
      "cell_type": "code",
      "source": [
        "print(1.j**2)"
      ],
      "metadata": {
        "colab": {
          "base_uri": "https://localhost:8080/"
        },
        "id": "Cdb54uttH18r",
        "outputId": "af21ae14-d25c-4118-dda1-346307401ffc"
      },
      "id": "Cdb54uttH18r",
      "execution_count": 7,
      "outputs": [
        {
          "output_type": "stream",
          "name": "stdout",
          "text": [
            "(-1+0j)\n"
          ]
        }
      ]
    },
    {
      "cell_type": "code",
      "source": [
        "# We need the wave function -> probabilities\n",
        "\n",
        "# Define psi\n",
        "\n",
        "psi = np.array([1.j/np.sqrt(3.), -1.j/np.sqrt(3.), 1.j/np.sqrt(3.)])\n",
        "\n",
        "print(psi)\n",
        "print(\"\\n\")\n",
        "print(\"Norm of psi: \", np.linalg.norm(psi))"
      ],
      "metadata": {
        "colab": {
          "base_uri": "https://localhost:8080/"
        },
        "id": "21kvI_krHLt8",
        "outputId": "45240b7c-0302-4b5f-9469-bc7d95e712cf"
      },
      "id": "21kvI_krHLt8",
      "execution_count": 11,
      "outputs": [
        {
          "output_type": "stream",
          "name": "stdout",
          "text": [
            "[ 0.+0.57735027j -0.-0.57735027j  0.+0.57735027j]\n",
            "\n",
            "\n",
            "Norm of psi:  1.0\n"
          ]
        }
      ]
    },
    {
      "cell_type": "code",
      "source": [
        "# Get the eigenvectors:\n",
        "\n",
        "vector_0 = v_eigvectors[0]\n",
        "vector_1 = v_eigvectors[1]\n",
        "vector_2 = v_eigvectors[2]\n"
      ],
      "metadata": {
        "id": "5ial_9V9HLx_"
      },
      "id": "5ial_9V9HLx_",
      "execution_count": 12,
      "outputs": []
    },
    {
      "cell_type": "code",
      "source": [
        "# Get the probabilities\n",
        "\n",
        "prob_0 = np.abs(np.dot(vector_0, psi)**2/np.dot(psi,psi))\n",
        "prob_1 = np.abs(np.dot(vector_1, psi)**2/np.dot(psi,psi))\n",
        "prob_2 = np.abs(np.dot(vector_2, psi)**2/np.dot(psi,psi))\n",
        "\n",
        "print(prob_0, prob_1, prob_2)"
      ],
      "metadata": {
        "colab": {
          "base_uri": "https://localhost:8080/"
        },
        "id": "xPQStxy6HL1n",
        "outputId": "0f24d04d-0da7-437e-8d05-ce7f3e60fa7b"
      },
      "id": "xPQStxy6HL1n",
      "execution_count": 13,
      "outputs": [
        {
          "output_type": "stream",
          "name": "stdout",
          "text": [
            "0.6666666666666665 0.0 0.33333333333333337\n"
          ]
        }
      ]
    },
    {
      "cell_type": "markdown",
      "source": [
        "The most likely energy/state to emerge is the first one, so $E_1$"
      ],
      "metadata": {
        "id": "q3j_t-oLJ_x3"
      },
      "id": "q3j_t-oLJ_x3"
    },
    {
      "cell_type": "code",
      "source": [
        "print(\"Most likely eigenvalue 1: \", w_eigenvalues[0], \"with corresponding eigenvector 1: \", v_eigvectors[0])"
      ],
      "metadata": {
        "colab": {
          "base_uri": "https://localhost:8080/"
        },
        "id": "enL2_2TbJ9kV",
        "outputId": "eb99b47d-03eb-4eae-f9d3-e27ab22b5ef2"
      },
      "id": "enL2_2TbJ9kV",
      "execution_count": 14,
      "outputs": [
        {
          "output_type": "stream",
          "name": "stdout",
          "text": [
            "Most likely eigenvalue 1:  3.0 with corresponding eigenvector 1:  [ 0.70710678 -0.70710678  0.        ]\n"
          ]
        }
      ]
    },
    {
      "cell_type": "markdown",
      "id": "a3e69df8",
      "metadata": {
        "id": "a3e69df8"
      },
      "source": [
        "\n",
        "(c) Find $\\langle H \\rangle$, $\\langle H^2 \\rangle$, and $\\sigma_H$.\n",
        "\n",
        "\n",
        "$\\langle H \\rangle$ = $\\langle \\psi | H | \\psi \\rangle$"
      ]
    },
    {
      "cell_type": "code",
      "source": [
        "# Calculate the expectation value\n",
        "\n",
        "h_expectation = np.abs(np.dot(np.dot(np.conjugate(psi), hamiltonian_matrix), psi.T))\n",
        "\n",
        "print(h_expectation)"
      ],
      "metadata": {
        "colab": {
          "base_uri": "https://localhost:8080/"
        },
        "id": "vwyrgVBgKXFW",
        "outputId": "52f07a82-a1d2-4e36-b411-26feef2ed1ed"
      },
      "id": "vwyrgVBgKXFW",
      "execution_count": 15,
      "outputs": [
        {
          "output_type": "stream",
          "name": "stdout",
          "text": [
            "1.666666666666667\n"
          ]
        }
      ]
    },
    {
      "cell_type": "markdown",
      "id": "d30f2ba0",
      "metadata": {
        "id": "d30f2ba0"
      },
      "source": [
        "$\\langle H^2 \\rangle$ = $\\langle \\psi | H^2 | \\psi \\rangle$"
      ]
    },
    {
      "cell_type": "code",
      "source": [
        "# Calculate the expectation value\n",
        "\n",
        "h2_expectation = np.abs(np.dot(np.dot(np.conjugate(psi), hamiltonian_matrix @ hamiltonian_matrix), psi.T))\n",
        "\n",
        "print(h2_expectation)"
      ],
      "metadata": {
        "colab": {
          "base_uri": "https://localhost:8080/"
        },
        "id": "oSWNY1aEK41p",
        "outputId": "c6af7b67-8088-4fab-9f2f-c1011a8dd47e"
      },
      "id": "oSWNY1aEK41p",
      "execution_count": 16,
      "outputs": [
        {
          "output_type": "stream",
          "name": "stdout",
          "text": [
            "3.666666666666668\n"
          ]
        }
      ]
    },
    {
      "cell_type": "markdown",
      "id": "3ad7ba96",
      "metadata": {
        "id": "3ad7ba96"
      },
      "source": [
        "### Uncertainty:\n",
        "\n",
        "$\\sigma_H = \\sqrt{\\langle H^2 \\rangle - \\langle H\\rangle^2}$"
      ]
    },
    {
      "cell_type": "code",
      "source": [
        "sigma_h = np.sqrt(h2_expectation - h_expectation**2)\n",
        "\n",
        "print(sigma_h)"
      ],
      "metadata": {
        "colab": {
          "base_uri": "https://localhost:8080/"
        },
        "id": "l-7lBOhQLJdH",
        "outputId": "08ee0b6e-85af-4b8f-ff52-131b16e4f6cc"
      },
      "id": "l-7lBOhQLJdH",
      "execution_count": 17,
      "outputs": [
        {
          "output_type": "stream",
          "name": "stdout",
          "text": [
            "0.9428090415820636\n"
          ]
        }
      ]
    },
    {
      "cell_type": "code",
      "source": [],
      "metadata": {
        "id": "jOD7LdaNLWtD"
      },
      "id": "jOD7LdaNLWtD",
      "execution_count": 17,
      "outputs": []
    }
  ],
  "metadata": {
    "kernelspec": {
      "display_name": "Python 3 (ipykernel)",
      "language": "python",
      "name": "python3"
    },
    "language_info": {
      "codemirror_mode": {
        "name": "ipython",
        "version": 3
      },
      "file_extension": ".py",
      "mimetype": "text/x-python",
      "name": "python",
      "nbconvert_exporter": "python",
      "pygments_lexer": "ipython3",
      "version": "3.7.16"
    },
    "colab": {
      "provenance": [],
      "include_colab_link": true
    }
  },
  "nbformat": 4,
  "nbformat_minor": 5
}