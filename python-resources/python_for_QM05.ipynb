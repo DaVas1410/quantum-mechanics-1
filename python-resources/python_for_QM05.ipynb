{
  "nbformat": 4,
  "nbformat_minor": 0,
  "metadata": {
    "colab": {
      "provenance": [],
      "authorship_tag": "ABX9TyM6lWBTOJDGONDvpCHTJCNa",
      "include_colab_link": true
    },
    "kernelspec": {
      "name": "python3",
      "display_name": "Python 3"
    },
    "language_info": {
      "name": "python"
    }
  },
  "cells": [
    {
      "cell_type": "markdown",
      "metadata": {
        "id": "view-in-github",
        "colab_type": "text"
      },
      "source": [
        "<a href=\"https://colab.research.google.com/github/wbandabarragan/quantum-mechanics-1/blob/main/python-resources/python_for_QM05.ipynb\" target=\"_parent\"><img src=\"https://colab.research.google.com/assets/colab-badge.svg\" alt=\"Open In Colab\"/></a>"
      ]
    },
    {
      "cell_type": "markdown",
      "source": [
        "# Tutorial 5: Python for Quantum Mechanics\n",
        "\n",
        "## 1D infinite-square potential:\n",
        "\n",
        "Consider a particle of mass $m$ moving in a small space surrounded by impenetrable barriers.\n",
        "\n",
        "The potential, $V(x)$, is given by the following piecewise function:\n",
        "\n",
        "$   \n",
        "V(x)=\n",
        "     \\begin{cases}\n",
        "       0, & 0 \\leq x \\leq a\\\\\n",
        "       \\infty, & \\rm elsewhere\\\\\n",
        "     \\end{cases}\n",
        "$\n",
        "\n",
        "Since $V(x)$ is time-independent, the solutions to the Schrödinger equation can be separated into spatial and temporal wave functions:\n",
        "\n",
        "$\\Psi(x,t) = \\psi_n(x)\\,e^{-i\\frac{E_n}{\\hbar}t}$\n",
        "\n",
        "As you know, the last term is called the \"wiggle factor\".\n",
        "\n",
        "**The purpose of this problem is to sketch the potential and the stationary state solutions for this system using python tools**.\n",
        "\n",
        "First, let us remember the solutions. The wave function outside of the well is $\\psi =0$ (regions I and III), while we need to solve the ODE for the particle inside the well (region II):\n",
        "\n",
        "$\\frac{-\\hbar^2}{2m}\\frac{d^2 \\psi}{d x^2} = E\\psi$\n",
        "\n",
        "because $V(x)=0$. The solution for regions II, as we studied in class can be obtained as follows:\n",
        "\n",
        "$\\frac{d^2}{d x^2}\\psi + \\frac{2mE}{\\hbar^2}\\psi=0$\n",
        "\n",
        "In terms of the wavenumber: $k^2=\\frac{2mE}{\\hbar^2}$ (eq 1.)\n",
        "\n",
        "$\\frac{d^2}{d x^2}\\psi + k^2\\psi=0$\n",
        "\n",
        "Then, the solution is harmonic:\n",
        "\n",
        "$\\psi(x) = C'_1\\,\\cos(kx)+ C'_2\\,\\sin(kx)$\n",
        "\n",
        "Now you have stationary state solutions for inside and outside of the well, but the coefficients ($C'_1$ and $C'_2$) are still undefined. The relevant boundary conditions are:\n",
        "\n",
        "$\\psi(0)=0 \\Rightarrow \\psi(0) = C'_1\\,\\cos(0)+ C'_2\\,\\sin(0)=0 \\Rightarrow C_1'=0$\n",
        "\n",
        "$\\psi(a)=0 \\Rightarrow \\psi(a) = C'_1\\,\\cos(ka)+ C'_2\\,\\sin(ka)=0 \\Rightarrow \\sin(ka)=0$\n",
        "\n",
        "which we can use to find an expression for $E_n$. From the equations above, we have that $ka=n\\pi$, where $n$ is an integer. It cannot be zero because it results in a trivial solution. For the energy:\n",
        "\n",
        "$$E_n=\\frac{k^2\\hbar^2}{2m}=\\frac{n^2\\pi^2\\hbar^2}{2ma^2}$$\n",
        "\n",
        "Finally we can normalise the resulting wave function, and write down the global solution. This involves calculating the integral of an analytical function.\n",
        "The resulting wave function is:\n",
        "\n",
        "$\\psi(x)= C'_2\\,\\sin\\left(\\frac{n\\pi}{a}x\\right)$\n",
        "\n",
        "We want to normalise it, so:\n",
        "\n",
        "$\\int^a_0|\\psi(x)|^2\\,dx=1$\n",
        "\n",
        "$(C'_2)^2\\,\\int^a_0\\sin^2\\left(\\frac{n\\pi}{a}x\\right)=1$\n",
        "\n",
        "Therefore:\n",
        "$C'_2 = \\sqrt{\\frac{2}{a}}$\n",
        "\n",
        "The resulting wave function is:\n",
        "\n",
        "$$\\psi_n(x)= \\sqrt{\\frac{2}{a}}\\,\\sin\\left(\\frac{n\\pi}{a}x\\right)$$"
      ],
      "metadata": {
        "id": "gfh-x-ionH0N"
      }
    },
    {
      "cell_type": "markdown",
      "source": [
        "\n",
        "**Tasks:**\n",
        "\n",
        "**(a)** Use python to make a plot of $V(x)$, labelling the regions of interest (i.e., the barriers and well). **Hint:** Note that $V(x)$ is a piece-wise function that can be $+\\infty$ at the barriers, so you can define very large y-values for the barriers and then chop the y-axis when plotting to show just the bottom part.\n",
        "\n",
        "**(b)** Inside a python function, plug some ansatz and make plots of the first $4$ stationary states, $\\Psi(x,0)$, at time $t=0$. **Hint:** Note that these have to be energy eigenstates.\n",
        "\n",
        "**(c)** Now append the wiggle factor, call the above function for different times, and create a movie with $4$ panels showing how the first $4$ stationary states $\\Psi(x,t)$ evolve in time. Add a time stamp to the movies."
      ],
      "metadata": {
        "id": "idk76dM4pc3j"
      }
    },
    {
      "cell_type": "code",
      "source": [
        "# Importing libraries\n",
        "\n",
        "import numpy as np\n",
        "import matplotlib.pyplot as plt\n",
        "import scipy.constants as ct"
      ],
      "metadata": {
        "id": "yQK36cYmt5Dd"
      },
      "execution_count": 4,
      "outputs": []
    },
    {
      "cell_type": "markdown",
      "source": [
        "### a) Plot of the potential\n",
        "\n",
        "$   \n",
        "V(x)=\n",
        "     \\begin{cases}\n",
        "       0, & 0 \\leq x \\leq a\\\\\n",
        "       \\infty, & \\rm elsewhere\\\\\n",
        "     \\end{cases}\n",
        "$"
      ],
      "metadata": {
        "id": "RNAm1lKe-6Ec"
      }
    },
    {
      "cell_type": "code",
      "source": [
        "# Piece-wise function\n",
        "\n",
        "def potential_v(x, a):\n",
        "  \"\"\"\n",
        "  This is a piece-wise funtion to evaluate our potential\n",
        "  Inputs: x -> vector[i]\n",
        "          a -> width of the V(x)\n",
        "  Ouput: V(x)\n",
        "  \"\"\"\n",
        "  if(0 <= x <= a):\n",
        "    return 0\n",
        "  else:\n",
        "    return 1.e4 # this is supposed to be infinity"
      ],
      "metadata": {
        "id": "Jpqk0Ni3_F86"
      },
      "execution_count": 6,
      "outputs": []
    },
    {
      "cell_type": "code",
      "source": [
        "# Fix some of the constants for the problem\n",
        "a = 2.e-10 # 2 A, 0.2 nm\n",
        "m = ct.m_e # electron mass\n",
        "\n",
        "#print(m)"
      ],
      "metadata": {
        "id": "bw7edj4n_uE5"
      },
      "execution_count": 8,
      "outputs": []
    },
    {
      "cell_type": "code",
      "source": [
        "# Define an x axis\n",
        "x = np.arange(-3.e-10, +5e-10, 1.e-12)\n",
        "\n",
        "# Empty list for y\n",
        "y = []\n",
        "\n",
        "# Append values for y for each x[i]\n",
        "for j in range(len(x)):\n",
        "  y.append(potential_v(x[j], a))\n",
        "\n",
        "# Convert to an array\n",
        "y = np.array(y)"
      ],
      "metadata": {
        "id": "nFUU5RwaARKa"
      },
      "execution_count": 25,
      "outputs": []
    },
    {
      "cell_type": "code",
      "source": [
        "# Make a plot - Figure env.\n",
        "\n",
        "plt.figure(figsize=(4,3))\n",
        "\n",
        "plt.plot(x, y, c = \"magenta\", ls = \"-\")\n",
        "\n",
        "plt.ylim(0,800)\n",
        "\n",
        "plt.xlabel(r\"$x\\,[m]$\")\n",
        "plt.ylabel(r\"$V(x)$\")\n",
        "\n",
        "plt.show()\n"
      ],
      "metadata": {
        "colab": {
          "base_uri": "https://localhost:8080/",
          "height": 319
        },
        "id": "Zt5E4pDmAzkP",
        "outputId": "a4fa64bd-ca6a-4e70-8252-ea38c9326cce"
      },
      "execution_count": 26,
      "outputs": [
        {
          "output_type": "display_data",
          "data": {
            "text/plain": [
              "<Figure size 400x300 with 1 Axes>"
            ],
            "image/png": "[encoded data removed]"
          },
          "metadata": {}
        }
      ]
    },
    {
      "cell_type": "markdown",
      "source": [
        "(b) Wave funtion:\n",
        "\n",
        "$$\\Psi(x,t) = \\psi_n(x)\\,e^{-i\\frac{E_n}{\\hbar}t}$$\n",
        "\n",
        "The real part is:\n",
        "\n",
        "$$\\Psi(x,t) = \\psi_n(x)\\,\\cos\\left({\\frac{E_n}{\\hbar}t}\\right)$$\n",
        "\n",
        "$$\\psi_n(x)= \\sqrt{\\frac{2}{a}}\\,\\sin\\left(\\frac{n\\pi}{a}x\\right)$$\n",
        "\n",
        "$$E_n=\\frac{k^2\\hbar^2}{2m}=\\frac{n^2\\pi^2\\hbar^2}{2ma^2}$$"
      ],
      "metadata": {
        "id": "YfIm737jCBoC"
      }
    },
    {
      "cell_type": "code",
      "source": [
        "# Let's define a single funtion for Psi(x,t)\n",
        "\n",
        "def psi_function(a, n, x, t):\n",
        "  \"\"\"\n",
        "  This is the function to retrieve the stationary state solutions for the particle in a box problem\n",
        "  Inputs: a, n, x, t\n",
        "  Output: psi_xt\n",
        "  \"\"\"\n",
        "  # Let's define the energies\n",
        "  e_n = ((n**2)*(np.pi)**2*(ct.hbar**2))/((2)*(m)*(a**2))\n",
        "\n",
        "  # We want the wavefunction\n",
        "  psi_xt = np.sqrt(2/a)*np.sin(n*np.pi*x/a)*np.cos(e_n*t/ct.hbar)\n",
        "\n",
        "  return psi_xt\n",
        "\n"
      ],
      "metadata": {
        "id": "cZwrKe6gBEsI"
      },
      "execution_count": 27,
      "outputs": []
    },
    {
      "cell_type": "code",
      "source": [
        "# Test the code by calling our function\n",
        "\n",
        "# Fixing the parameters\n",
        "n_1 = 1\n",
        "n_2 = 2\n",
        "n_3 = 3\n",
        "n_4 = 4\n",
        "t = 0.\n",
        "\n",
        "# Call our function\n",
        "psi_1 = psi_function(a, n_1, x, t)\n",
        "psi_2 = psi_function(a, n_2, x, t)\n",
        "psi_3 = psi_function(a, n_3, x, t)\n",
        "psi_4 = psi_function(a, n_4, x, t)"
      ],
      "metadata": {
        "id": "Vm-ycNV5ECX8"
      },
      "execution_count": 28,
      "outputs": []
    },
    {
      "cell_type": "code",
      "source": [
        "# Make a plot of psi_1\n",
        "\n",
        "plt.figure(figsize=(4,3))\n",
        "\n",
        "plt.plot(x, psi_1, c = \"blue\")\n",
        "plt.plot(x, psi_2, c = \"green\")\n",
        "plt.plot(x, psi_3, c = \"brown\")\n",
        "plt.plot(x, psi_4, c = \"red\")\n",
        "\n",
        "plt.xlim(0, 2e-10) # Inside of the box\n",
        "\n",
        "plt.xlabel(r\"$x\\,[m]$\")\n",
        "plt.ylabel(r\"$\\psi_n(x)$\")\n",
        "\n",
        "plt.show()\n"
      ],
      "metadata": {
        "colab": {
          "base_uri": "https://localhost:8080/",
          "height": 313
        },
        "id": "WsQykVIPETTy",
        "outputId": "7fe48035-b9ca-4cf0-fb53-e820014ad906"
      },
      "execution_count": 30,
      "outputs": [
        {
          "output_type": "display_data",
          "data": {
            "text/plain": [
              "<Figure size 400x300 with 1 Axes>"
            ],
            "image/png": "[encoded data removed]"
          },
          "metadata": {}
        }
      ]
    },
    {
      "cell_type": "code",
      "source": [],
      "metadata": {
        "id": "nNDvRboWEfNF"
      },
      "execution_count": null,
      "outputs": []
    }
  ]
}