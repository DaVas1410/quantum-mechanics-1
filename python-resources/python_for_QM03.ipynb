{
  "nbformat": 4,
  "nbformat_minor": 0,
  "metadata": {
    "colab": {
      "provenance": [],
      "authorship_tag": "ABX9TyM2/oAqHK9ZEzGt7eY8YGSF",
      "include_colab_link": true
    },
    "kernelspec": {
      "name": "python3",
      "display_name": "Python 3"
    },
    "language_info": {
      "name": "python"
    }
  },
  "cells": [
    {
      "cell_type": "markdown",
      "metadata": {
        "id": "view-in-github",
        "colab_type": "text"
      },
      "source": [
        "<a href=\"https://colab.research.google.com/github/wbandabarragan/quantum-mechanics-1/blob/main/python-resources/python_for_QM03.ipynb\" target=\"_parent\"><img src=\"https://colab.research.google.com/assets/colab-badge.svg\" alt=\"Open In Colab\"/></a>"
      ]
    },
    {
      "cell_type": "markdown",
      "source": [
        "# Tutorial 3: Python for Quantum Mechanics\n",
        "\n",
        "## 1. Mount our Google Drive (only in Google Colab)"
      ],
      "metadata": {
        "id": "bE821R-6npZw"
      }
    },
    {
      "cell_type": "code",
      "execution_count": 1,
      "metadata": {
        "colab": {
          "base_uri": "https://localhost:8080/"
        },
        "id": "QxLkJajlna1u",
        "outputId": "14f64796-e976-4327-fc7f-1c8c7af64f0f"
      },
      "outputs": [
        {
          "output_type": "stream",
          "name": "stdout",
          "text": [
            "Mounted at /content/drive\n"
          ]
        }
      ],
      "source": [
        "# Import drive\n",
        "\n",
        "from google.colab import drive\n",
        "\n",
        "drive.mount('/content/drive')"
      ]
    },
    {
      "cell_type": "code",
      "source": [
        "# Check what we have in our drives:\n",
        "\n",
        "# !ls -ltr /content/drive/MyDrive/\"Colab Notebooks\""
      ],
      "metadata": {
        "id": "ai2aOfFgoOhe"
      },
      "execution_count": 5,
      "outputs": []
    },
    {
      "cell_type": "markdown",
      "source": [
        "## Problem 1. 1D Plane Waves\n",
        "\n",
        "$$p(x) = A\\cos[k\\,x-\\omega\\,t]$$\n",
        "\n",
        "where:\n",
        "\n",
        "$A\\equiv$ amplitude\n",
        "\n",
        "$k=\\frac{2\\pi}{\\lambda}=\\frac{p}{\\hbar}$\n",
        "\n",
        "$\\omega = 2\\pi\\nu = \\frac{2\\pi}{T} =\\frac{E}{\\hbar}$\n",
        "\n",
        "\n",
        "$$\\Rightarrow p(x) = A\\cos\\left[2\\,\\pi\\left(\\frac{x}{\\lambda}-\\frac{t}{T}\\right)\\right]$$"
      ],
      "metadata": {
        "id": "WgiYNP4no9L9"
      }
    },
    {
      "cell_type": "code",
      "source": [],
      "metadata": {
        "id": "Nwbs2TNfogx7"
      },
      "execution_count": null,
      "outputs": []
    }
  ]
}