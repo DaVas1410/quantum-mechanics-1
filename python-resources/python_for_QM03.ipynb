{
  "nbformat": 4,
  "nbformat_minor": 0,
  "metadata": {
    "colab": {
      "provenance": [],
      "authorship_tag": "ABX9TyNpT8/R58j9oDswR6xPEEG9",
      "include_colab_link": true
    },
    "kernelspec": {
      "name": "python3",
      "display_name": "Python 3"
    },
    "language_info": {
      "name": "python"
    }
  },
  "cells": [
    {
      "cell_type": "markdown",
      "metadata": {
        "id": "view-in-github",
        "colab_type": "text"
      },
      "source": [
        "<a href=\"https://colab.research.google.com/github/wbandabarragan/quantum-mechanics-1/blob/main/python-resources/python_for_QM03.ipynb\" target=\"_parent\"><img src=\"https://colab.research.google.com/assets/colab-badge.svg\" alt=\"Open In Colab\"/></a>"
      ]
    },
    {
      "cell_type": "markdown",
      "source": [
        "# Tutorial 3: Python for Quantum Mechanics\n",
        "\n",
        "## 1. Mount our Google Drive (only in Google Colab)"
      ],
      "metadata": {
        "id": "bE821R-6npZw"
      }
    },
    {
      "cell_type": "code",
      "execution_count": 1,
      "metadata": {
        "colab": {
          "base_uri": "https://localhost:8080/"
        },
        "id": "QxLkJajlna1u",
        "outputId": "14f64796-e976-4327-fc7f-1c8c7af64f0f"
      },
      "outputs": [
        {
          "output_type": "stream",
          "name": "stdout",
          "text": [
            "Mounted at /content/drive\n"
          ]
        }
      ],
      "source": [
        "# Import drive\n",
        "\n",
        "from google.colab import drive\n",
        "\n",
        "drive.mount('/content/drive')"
      ]
    },
    {
      "cell_type": "code",
      "source": [
        "# Check what we have in our drives:\n",
        "#!pwd\n",
        "!ls /content/drive/MyDrive/'Colab Notebooks'/plane_waves\n",
        "\n",
        "# !ls -ltr /content/drive/MyDrive/\"Colab Notebooks\""
      ],
      "metadata": {
        "colab": {
          "base_uri": "https://localhost:8080/"
        },
        "id": "ai2aOfFgoOhe",
        "outputId": "20b853da-12ef-4282-980a-bfc7a0bdc5c9"
      },
      "execution_count": 47,
      "outputs": [
        {
          "output_type": "stream",
          "name": "stdout",
          "text": [
            "test.png\n"
          ]
        }
      ]
    },
    {
      "cell_type": "markdown",
      "source": [
        "## Problem 1. 1D Plane Waves\n",
        "\n",
        "$$p(x,t) = A\\cos[k\\,x\\pm\\omega\\,t]$$\n",
        "\n",
        "where:\n",
        "\n",
        "$A\\equiv$ amplitude\n",
        "\n",
        "$k=\\frac{2\\pi}{\\lambda}=\\frac{p}{\\hbar}$\n",
        "\n",
        "$\\omega = 2\\pi\\nu = \\frac{2\\pi}{T} =\\frac{E}{\\hbar}$\n",
        "\n",
        "\n",
        "$$\\Rightarrow p(x,t) = A\\cos\\left[2\\,\\pi\\left(\\frac{x}{\\lambda}\\pm\\frac{t}{T}\\right)\\right]$$"
      ],
      "metadata": {
        "id": "WgiYNP4no9L9"
      }
    },
    {
      "cell_type": "code",
      "source": [
        "# Import libraries\n",
        "\n",
        "import numpy as np\n",
        "\n",
        "import matplotlib.pyplot as plt"
      ],
      "metadata": {
        "id": "Nwbs2TNfogx7"
      },
      "execution_count": 6,
      "outputs": []
    },
    {
      "cell_type": "markdown",
      "source": [
        "$$p(x,t) = A\\cos\\left[2\\,\\pi\\left(\\frac{x}{\\lambda}\\pm\\frac{t}{T}\\right)\\right]$$"
      ],
      "metadata": {
        "id": "JfOOyLiSqttJ"
      }
    },
    {
      "cell_type": "code",
      "source": [
        "# Create a funtion for p(x,t)\n",
        "\n",
        "def plane_wave(a, l, p, x, t): # arguments of the function\n",
        "  \"\"\"\n",
        "  This is function that allows us to construct plane waves.\n",
        "  Inputs: a-> Amplitude, l-> Wavelength, p-> Period, x-> position coord., t-> time coord.\n",
        "  Ouput: p_xt -> plane wave\n",
        "  \"\"\"\n",
        "  # Our funtion is:\n",
        "  p_xt = a*np.cos(2*np.pi*(x/l - t/p))\n",
        "\n",
        "  return p_xt"
      ],
      "metadata": {
        "id": "grKpBAYIqYFM"
      },
      "execution_count": 7,
      "outputs": []
    },
    {
      "cell_type": "code",
      "source": [
        "# Create an example for wave 1\n",
        "a_wave1 = 1.\n",
        "l_wave1 = 2.\n",
        "p_wave1 = 0.5\n",
        "\n",
        "# Fix the time\n",
        "t = 0.\n",
        "\n",
        "# Vector for the x coordinate\n",
        "x = np.linspace(-5., +5., 1000)\n",
        "\n",
        "# print(x[-1])"
      ],
      "metadata": {
        "id": "UzIgoSZerm3b"
      },
      "execution_count": 11,
      "outputs": []
    },
    {
      "cell_type": "code",
      "source": [
        "# Evaluate our plane wave function\n",
        "\n",
        "pw_1 = plane_wave(a_wave1, l_wave1, p_wave1, x, t)\n",
        "\n",
        "# print(x.shape, pw_1.shape)"
      ],
      "metadata": {
        "id": "7YIQQEr2sON9"
      },
      "execution_count": 13,
      "outputs": []
    },
    {
      "cell_type": "code",
      "source": [
        "# Plotting our wave 1\n",
        "# Figure environment\n",
        "plt.figure(figsize = (4,3))\n",
        "\n",
        "plt.plot(x, pw_1, color = \"magenta\", linestyle = \"-\")\n",
        "\n",
        "plt.xlim(-5., +5.)\n",
        "plt.ylim(-1.2, +1.2)\n",
        "\n",
        "plt.xlabel(r\"$x$\")\n",
        "plt.ylabel(r\"$p(x,t=0)$\")\n",
        "\n",
        "plt.grid()\n",
        "\n",
        "plt.show()"
      ],
      "metadata": {
        "colab": {
          "base_uri": "https://localhost:8080/",
          "height": 311
        },
        "id": "v0a3baGJsxJi",
        "outputId": "ffc64226-5be6-4531-a6a0-523038388a2b"
      },
      "execution_count": 18,
      "outputs": [
        {
          "output_type": "display_data",
          "data": {
            "text/plain": [
              "<Figure size 400x300 with 1 Axes>"
            ],
            "image/png": "[encoded data removed]"
          },
          "metadata": {}
        }
      ]
    },
    {
      "cell_type": "markdown",
      "source": [
        "### To evaluate the same function for time, we need lists and a loop:"
      ],
      "metadata": {
        "id": "Xik6p5G3uyL2"
      }
    },
    {
      "cell_type": "code",
      "source": [
        "# Let's create our time vector\n",
        "t_vector = np.linspace(0., 10., 100)\n",
        "\n",
        "print(len(t_vector))\n",
        "\n",
        "# Our WRONG way to evaluate the function\n",
        "# pw_try = plane_wave(a_wave1, l_wave1, p_wave1, x, t_vector)"
      ],
      "metadata": {
        "colab": {
          "base_uri": "https://localhost:8080/"
        },
        "id": "fXYdyqpftXzg",
        "outputId": "8f188ad7-be7b-470e-de58-1c36071c6924"
      },
      "execution_count": 26,
      "outputs": [
        {
          "output_type": "stream",
          "name": "stdout",
          "text": [
            "100\n"
          ]
        }
      ]
    },
    {
      "cell_type": "code",
      "source": [
        "# Create an empty list\n",
        "all_pw = []\n",
        "\n",
        "# Use a loop to fill in the evaluated values for pw\n",
        "for i in range(len(t_vector)):\n",
        "  #print(t_vector[i])\n",
        "  all_pw.append(plane_wave(a_wave1, l_wave1, p_wave1, x, t_vector[i]))\n",
        "\n",
        "# Convert the list to an array\n",
        "all_pw = np.array(all_pw)"
      ],
      "metadata": {
        "id": "AEnjWMNGvIod"
      },
      "execution_count": 29,
      "outputs": []
    },
    {
      "cell_type": "code",
      "source": [
        "# Plotting our wave slns\n",
        "# Figure environment\n",
        "plt.figure(figsize = (4,3))\n",
        "\n",
        "plt.plot(x, pw_1, color = \"magenta\", linestyle = \"-\")\n",
        "plt.plot(x, all_pw[1], color = \"blue\", linestyle = \":\")\n",
        "\n",
        "plt.xlim(-5., +5.)\n",
        "plt.ylim(-1.2, +1.2)\n",
        "\n",
        "plt.xlabel(r\"$x$\")\n",
        "plt.ylabel(r\"$p(x,t=0)$\")\n",
        "\n",
        "plt.grid()\n",
        "\n",
        "plt.show()"
      ],
      "metadata": {
        "colab": {
          "base_uri": "https://localhost:8080/",
          "height": 311
        },
        "id": "ScX8UJORwOpy",
        "outputId": "9532aeb8-f063-44be-bf87-2a9d0e1a35aa"
      },
      "execution_count": 38,
      "outputs": [
        {
          "output_type": "display_data",
          "data": {
            "text/plain": [
              "<Figure size 400x300 with 1 Axes>"
            ],
            "image/png": "[encoded data removed]"
          },
          "metadata": {}
        }
      ]
    },
    {
      "cell_type": "markdown",
      "source": [
        "### Saving a file into our Google Drives:"
      ],
      "metadata": {
        "id": "cTxGDszky4YY"
      }
    },
    {
      "cell_type": "code",
      "source": [
        "# Plotting our wave slns\n",
        "# Figure environment\n",
        "plt.figure(figsize = (4,3))\n",
        "\n",
        "plt.plot(x, pw_1, color = \"magenta\", linestyle = \"-\")\n",
        "plt.plot(x, all_pw[1], color = \"blue\", linestyle = \":\")\n",
        "\n",
        "plt.xlim(-5., +5.)\n",
        "plt.ylim(-1.2, +1.2)\n",
        "\n",
        "plt.xlabel(r\"$x$\")\n",
        "plt.ylabel(r\"$p(x,t=0)$\")\n",
        "\n",
        "plt.grid()\n",
        "\n",
        "plt.savefig(\"/content/drive/MyDrive/Colab Notebooks/plane_waves/test.png\")\n",
        "\n",
        "plt.close()"
      ],
      "metadata": {
        "id": "-tfmZ4v6xbqu"
      },
      "execution_count": 48,
      "outputs": []
    },
    {
      "cell_type": "markdown",
      "source": [
        "### Looping over times:"
      ],
      "metadata": {
        "id": "W6sPtPE03Gzc"
      }
    },
    {
      "cell_type": "code",
      "source": [
        "# Test the number formatting\n",
        "\n",
        "for j in range(len(all_pw)):\n",
        "\n",
        "  print(\"{:02d}\".format(j))"
      ],
      "metadata": {
        "colab": {
          "base_uri": "https://localhost:8080/"
        },
        "id": "X3rVA04D4uuA",
        "outputId": "39366f44-a717-4125-b3b5-08447e95d322"
      },
      "execution_count": 55,
      "outputs": [
        {
          "output_type": "stream",
          "name": "stdout",
          "text": [
            "00\n",
            "01\n",
            "02\n",
            "03\n",
            "04\n",
            "05\n",
            "06\n",
            "07\n",
            "08\n",
            "09\n",
            "10\n",
            "11\n",
            "12\n",
            "13\n",
            "14\n",
            "15\n",
            "16\n",
            "17\n",
            "18\n",
            "19\n",
            "20\n",
            "21\n",
            "22\n",
            "23\n",
            "24\n",
            "25\n",
            "26\n",
            "27\n",
            "28\n",
            "29\n",
            "30\n",
            "31\n",
            "32\n",
            "33\n",
            "34\n",
            "35\n",
            "36\n",
            "37\n",
            "38\n",
            "39\n",
            "40\n",
            "41\n",
            "42\n",
            "43\n",
            "44\n",
            "45\n",
            "46\n",
            "47\n",
            "48\n",
            "49\n",
            "50\n",
            "51\n",
            "52\n",
            "53\n",
            "54\n",
            "55\n",
            "56\n",
            "57\n",
            "58\n",
            "59\n",
            "60\n",
            "61\n",
            "62\n",
            "63\n",
            "64\n",
            "65\n",
            "66\n",
            "67\n",
            "68\n",
            "69\n",
            "70\n",
            "71\n",
            "72\n",
            "73\n",
            "74\n",
            "75\n",
            "76\n",
            "77\n",
            "78\n",
            "79\n",
            "80\n",
            "81\n",
            "82\n",
            "83\n",
            "84\n",
            "85\n",
            "86\n",
            "87\n",
            "88\n",
            "89\n",
            "90\n",
            "91\n",
            "92\n",
            "93\n",
            "94\n",
            "95\n",
            "96\n",
            "97\n",
            "98\n",
            "99\n"
          ]
        }
      ]
    },
    {
      "cell_type": "code",
      "source": [
        "# For loop for time\n",
        "\n",
        "for j in range(len(all_pw)):\n",
        "  #print(all_pw[j].shape)\n",
        "  # Figure environment\n",
        "  plt.figure(figsize = (8,6))\n",
        "\n",
        "  plt.plot(x, all_pw[j], color = \"blue\", linestyle = \"-\", linewidth = 2)\n",
        "\n",
        "  plt.xlim(-5., +5.)\n",
        "  plt.ylim(-1.2, +1.2)\n",
        "\n",
        "  plt.xlabel(r\"$x$\")\n",
        "  plt.ylabel(r\"$p(x,t=0)$\")\n",
        "\n",
        "  plt.grid()\n",
        "\n",
        "  plt.savefig(\"/content/drive/MyDrive/Colab Notebooks/plane_waves/pw_{:02d}.png\".format(j))\n",
        "\n",
        "  plt.close()\n",
        "\n",
        ""
      ],
      "metadata": {
        "id": "lEmb5nIAzlec"
      },
      "execution_count": 57,
      "outputs": []
    },
    {
      "cell_type": "markdown",
      "source": [
        "### Animating our plane wave:"
      ],
      "metadata": {
        "id": "Dm4KMhdZ6pfP"
      }
    },
    {
      "cell_type": "code",
      "source": [
        "import glob\n",
        "\n",
        "from PIL import Image # Pillow library -> PIL\n",
        "\n",
        "from IPython import display # To see the animation in our nb"
      ],
      "metadata": {
        "id": "_lsrUo6X3TWv"
      },
      "execution_count": 59,
      "outputs": []
    },
    {
      "cell_type": "code",
      "source": [
        "# Animation\n",
        "\n",
        "# Indicate the input/output paths\n",
        "images_input = \"/content/drive/MyDrive/Colab Notebooks/plane_waves/pw_**.png\"\n",
        "gif_output   = \"/content/drive/MyDrive/Colab Notebooks/plane_waves/pw3.gif\"\n",
        "\n",
        "# Collect the images\n",
        "imgs = (Image.open(f) for f in sorted(glob.glob(images_input)))\n",
        "\n",
        "img  = next(imgs)\n",
        "\n",
        "# Export img in GIF format\n",
        "img.save(fp = gif_output, format = \"GIF\", append_images = imgs, save_all = True, duration = 250, loop = 0)"
      ],
      "metadata": {
        "id": "00xGufly7BS3"
      },
      "execution_count": 62,
      "outputs": []
    },
    {
      "cell_type": "code",
      "source": [
        "# Display our plane wave solution in our python notebook"
      ],
      "metadata": {
        "id": "H8USJX9t8oeU"
      },
      "execution_count": null,
      "outputs": []
    }
  ]
}