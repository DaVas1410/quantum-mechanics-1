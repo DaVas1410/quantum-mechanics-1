{
  "cells": [
    {
      "cell_type": "markdown",
      "metadata": {
        "id": "view-in-github",
        "colab_type": "text"
      },
      "source": [
        "<a href=\"https://colab.research.google.com/github/wbandabarragan/quantum-mechanics-1/blob/main/python-resources/python_for_QM06.ipynb\" target=\"_parent\"><img src=\"https://colab.research.google.com/assets/colab-badge.svg\" alt=\"Open In Colab\"/></a>"
      ]
    },
    {
      "cell_type": "markdown",
      "source": [
        "# Tutorial 6: Python for Quantum Mechanics\n",
        "\n",
        "## Finite square well potential:\n",
        "\n",
        "In class, we studied the finite square well potential problem. When looking into the even solutions and applying boundary conditions, we found a transcendental equation for $z=la$:\n",
        "\n",
        "$\\tan(z) = \\sqrt{\\left(\\frac{z_0}{z}\\right)^2 - 1}$\n",
        "\n",
        "where $a$ is the half-width of the potential $V(x)=-V_0$ between $x=-a$ and $x=+a$:\n",
        "\n",
        "$z_0 = \\frac{a}{\\hbar}\\sqrt{2\\,m\\,V_0}$,\n",
        "\n",
        "andthe wavenumber inside the well is:\n",
        "\n",
        "$l = \\frac{\\sqrt{2\\,m(E+V_0)}}{\\hbar}$\n",
        "\n",
        "\n",
        "**Task: Solve the above transcendetal equation using python optimisation tools and display the results for several $z_0$.**"
      ],
      "metadata": {
        "id": "sZdLW8o1Q4Ep"
      },
      "id": "sZdLW8o1Q4Ep"
    }
  ],
  "metadata": {
    "kernelspec": {
      "display_name": "Python 3 (ipykernel)",
      "language": "python",
      "name": "python3"
    },
    "language_info": {
      "codemirror_mode": {
        "name": "ipython",
        "version": 3
      },
      "file_extension": ".py",
      "mimetype": "text/x-python",
      "name": "python",
      "nbconvert_exporter": "python",
      "pygments_lexer": "ipython3",
      "version": "3.7.13"
    },
    "colab": {
      "provenance": [],
      "include_colab_link": true
    }
  },
  "nbformat": 4,
  "nbformat_minor": 5
}