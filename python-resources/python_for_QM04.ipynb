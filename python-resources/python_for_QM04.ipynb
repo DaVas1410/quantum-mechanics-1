{
  "nbformat": 4,
  "nbformat_minor": 0,
  "metadata": {
    "colab": {
      "provenance": [],
      "authorship_tag": "ABX9TyMOS8sOxR7kRkO2q12qH+EH",
      "include_colab_link": true
    },
    "kernelspec": {
      "name": "python3",
      "display_name": "Python 3"
    },
    "language_info": {
      "name": "python"
    }
  },
  "cells": [
    {
      "cell_type": "markdown",
      "metadata": {
        "id": "view-in-github",
        "colab_type": "text"
      },
      "source": [
        "<a href=\"https://colab.research.google.com/github/wbandabarragan/quantum-mechanics-1/blob/main/python-resources/python_for_QM04.ipynb\" target=\"_parent\"><img src=\"https://colab.research.google.com/assets/colab-badge.svg\" alt=\"Open In Colab\"/></a>"
      ]
    },
    {
      "cell_type": "markdown",
      "source": [
        "# Tutorial 4: Python for Quantum Mechanics\n",
        "\n",
        "## **1. Gaussian distributions:**\n",
        "\n",
        "Consider the Gaussian distribution:\n",
        "\n",
        "$\\rho(x) = A\\,e^{−\\lambda\\,(x−a)^2}$\n",
        "\n",
        "where: $A = \\sqrt{\\frac{\\lambda}{\\pi}}$, $a$, $\\lambda$ are positive real constants.\n",
        "\n",
        "Sketch $\\rho(x)$ versus $x$ for different values of $A$, $a$ and $\\lambda$."
      ],
      "metadata": {
        "id": "D2jbBIP2QOs6"
      }
    },
    {
      "cell_type": "code",
      "execution_count": 2,
      "metadata": {
        "id": "50zhlNTBQOGD"
      },
      "outputs": [],
      "source": [
        "import numpy as np\n",
        "import matplotlib.pyplot as plt"
      ]
    },
    {
      "cell_type": "code",
      "source": [
        "# Define a function for a 1D Gaussian\n",
        "\n",
        "def rho_x(l, a, x):\n",
        "  \"\"\"\n",
        "  This is a function to compute Gaussian PDFs.\n",
        "  Inputs: l -> lambda, a -> x displacement, x -> vector\n",
        "  \"\"\"\n",
        "  pdf_x = np.sqrt(l/np.pi)*np.exp(-l*(x - a)**2)\n",
        "\n",
        "  return pdf_x\n"
      ],
      "metadata": {
        "id": "1NK3kmyfuZzl"
      },
      "execution_count": 3,
      "outputs": []
    },
    {
      "cell_type": "code",
      "source": [
        "#help(rho_x)\n",
        "\n",
        "# Define an x vector\n",
        "x = np.linspace(-10., 10., 1000)\n",
        "\n",
        "#print(x.shape)\n",
        "\n",
        "# Define the constants\n",
        "l_1 = 2.\n",
        "a_1 = 0.5\n",
        "\n",
        "l_2 = 4.\n",
        "a_2 = 3.5\n",
        "\n",
        "l_3 = 0.5\n",
        "a_3 = -2.5\n",
        "\n",
        "# Evaluate the function using x\n",
        "y_1 = rho_x(l_1, a_1, x)\n",
        "y_2 = rho_x(l_2, a_2, x)\n",
        "y_3 = rho_x(l_3, a_3, x)"
      ],
      "metadata": {
        "id": "kOvkE0YSuZ25"
      },
      "execution_count": 22,
      "outputs": []
    },
    {
      "cell_type": "code",
      "source": [
        "# Plotting\n",
        "\n",
        "plt.figure(figsize=(5,4))\n",
        "\n",
        "plt.plot(x, y_1, color = \"red\")\n",
        "plt.plot(x, y_2, color = \"blue\")\n",
        "plt.plot(x, y_3, color = \"magenta\")\n",
        "\n",
        "plt.xlabel(r\"$x$\")\n",
        "plt.ylabel(r\"$\\rho(x)$\")\n",
        "\n",
        "plt.show()"
      ],
      "metadata": {
        "colab": {
          "base_uri": "https://localhost:8080/",
          "height": 388
        },
        "id": "NVq-38XguZ5n",
        "outputId": "d04a84ce-1ff8-4b2d-85d0-78c8621f7bbd"
      },
      "execution_count": 23,
      "outputs": [
        {
          "output_type": "display_data",
          "data": {
            "text/plain": [
              "<Figure size 500x400 with 1 Axes>"
            ],
            "image/png": "[encoded data removed]"
          },
          "metadata": {}
        }
      ]
    },
    {
      "cell_type": "markdown",
      "source": [
        "## **2. Piece-wise Wavefunctions:**\n",
        "\n",
        "Sketch the following $\\Psi(x)$ at $t=0$ (Problem 1.4 in Griffiths):\n",
        "\n",
        "$$\\Psi(x,0)=\\left\\{\n",
        "\\begin{array}{ll}\n",
        "      A(x/a) & 0 \\leq x \\leq a \\\\\n",
        "      A(b-x)/(b-a) & a \\leq x \\leq b \\\\\n",
        "      0 & \\rm otherwise \\\\\n",
        "\\end{array}\n",
        "\\right. $$\n",
        "\n",
        "\n"
      ],
      "metadata": {
        "id": "rpsC443RTI4l"
      }
    },
    {
      "cell_type": "code",
      "source": [
        "# Define piece-wise function\n",
        "\n",
        "def wave_piecewise(x, a, b, A):\n",
        "  \"\"\"\n",
        "  Function that returns piece-wise values for psi(x)\n",
        "  Inputs: x -> vector, a, b, A -> parameters\n",
        "  Output: y -> vector\n",
        "  \"\"\"\n",
        "  # Use conditionals\n",
        "  if(0. <= x <= a):\n",
        "    return A*(x / a)\n",
        "  elif(a <= x <= b):\n",
        "    return A*(b - x)/(b - a)\n",
        "  else:\n",
        "    return 0"
      ],
      "metadata": {
        "id": "0bPs8ih_TQfL"
      },
      "execution_count": 36,
      "outputs": []
    },
    {
      "cell_type": "code",
      "source": [
        "# Define a vector for x:\n",
        "x = np.arange(-3., 6., 0.01)\n",
        "\n",
        "# Input parameters\n",
        "a_1 = 1.\n",
        "b_1 = 3.\n",
        "A_1 = 3.\n",
        "\n",
        "# Evaluate the function\n",
        "#y = wave_piecewise(x, a_1, b_1, A_1) # This prints an error"
      ],
      "metadata": {
        "id": "XIchGUMDy1MD"
      },
      "execution_count": 37,
      "outputs": []
    },
    {
      "cell_type": "code",
      "source": [
        "# Evaluate the function\n",
        "# Empty list\n",
        "y = []\n",
        "\n",
        "# Evaluate using a loop\n",
        "for j in range(len(x)):\n",
        "  #print(j)\n",
        "  y.append(wave_piecewise(x[j], a_1, b_1, A_1))\n",
        "\n",
        "# Convert to an array\n",
        "y = np.array(y)"
      ],
      "metadata": {
        "id": "JPB0U4Me0eJc"
      },
      "execution_count": 38,
      "outputs": []
    },
    {
      "cell_type": "code",
      "source": [
        "# Plotting\n",
        "\n",
        "plt.figure(figsize=(5,4))\n",
        "\n",
        "plt.plot(x, y, color = \"brown\")\n",
        "\n",
        "plt.xlabel(r\"$x$\")\n",
        "plt.ylabel(r\"$\\psi(x)$\")\n",
        "\n",
        "plt.show()\n",
        "\n"
      ],
      "metadata": {
        "colab": {
          "base_uri": "https://localhost:8080/",
          "height": 388
        },
        "id": "oDXKbaszz5Fq",
        "outputId": "53ea37d9-7e6a-4be1-e28f-2bab253247d7"
      },
      "execution_count": 39,
      "outputs": [
        {
          "output_type": "display_data",
          "data": {
            "text/plain": [
              "<Figure size 500x400 with 1 Axes>"
            ],
            "image/png": "[encoded data removed]"
          },
          "metadata": {}
        }
      ]
    },
    {
      "cell_type": "markdown",
      "source": [
        "## **3. Time-dependent Wavefunction:**\n",
        "\n",
        "Consider the wave function:\n",
        "\n",
        "$\\Psi(x,t) = A\\,e^{-\\lambda|\\,x|}\\,e^{-i\\omega t}$\n",
        "\n",
        "where $A=\\sqrt{\\lambda}$, $\\lambda$, and $\\omega$ are positive real constants.\n",
        "\n",
        "Sketch $|\\Psi|^2$ versus $x$ for $\\lambda$ different values, and different times."
      ],
      "metadata": {
        "id": "RdgvyqK-UkYZ"
      }
    },
    {
      "cell_type": "code",
      "source": [],
      "metadata": {
        "id": "mc2zPjMPUots"
      },
      "execution_count": null,
      "outputs": []
    },
    {
      "cell_type": "markdown",
      "source": [
        "## **4. 1D Gaussian wavepacket**\n",
        "\n",
        "$$\\psi(x) = A\\,e^{-\\frac{x^2}{2\\sigma^2}}\\sin(kx)$$"
      ],
      "metadata": {
        "id": "5CxY8nCYWSoW"
      }
    },
    {
      "cell_type": "code",
      "source": [],
      "metadata": {
        "id": "d86ERxPMs5w9"
      },
      "execution_count": null,
      "outputs": []
    },
    {
      "cell_type": "markdown",
      "source": [
        "## **5. 2D Gaussian function**\n",
        "\n",
        "$$f(x,y) = \\frac{1}{2\\pi\\sigma_x\\sigma_y} \\exp\\left(-\\left(\\frac{(x - x_0)^2}{2\\sigma_X^2} + \\frac{(y - y_0)^2}{2\\sigma_Y^2} \\right)\\right).$$"
      ],
      "metadata": {
        "id": "tp4ZY3o5VLLs"
      }
    },
    {
      "cell_type": "code",
      "source": [],
      "metadata": {
        "id": "mv3dttlgVQdi"
      },
      "execution_count": null,
      "outputs": []
    }
  ]
}