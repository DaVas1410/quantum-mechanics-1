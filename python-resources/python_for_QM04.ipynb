{
  "nbformat": 4,
  "nbformat_minor": 0,
  "metadata": {
    "colab": {
      "provenance": [],
      "authorship_tag": "ABX9TyMd5ZchKpVj4qC/bfNr5Frt",
      "include_colab_link": true
    },
    "kernelspec": {
      "name": "python3",
      "display_name": "Python 3"
    },
    "language_info": {
      "name": "python"
    }
  },
  "cells": [
    {
      "cell_type": "markdown",
      "metadata": {
        "id": "view-in-github",
        "colab_type": "text"
      },
      "source": [
        "<a href=\"https://colab.research.google.com/github/wbandabarragan/quantum-mechanics-1/blob/main/python-resources/python_for_QM04.ipynb\" target=\"_parent\"><img src=\"https://colab.research.google.com/assets/colab-badge.svg\" alt=\"Open In Colab\"/></a>"
      ]
    },
    {
      "cell_type": "markdown",
      "source": [
        "# Tutorial 4: Python for Quantum Mechanics\n",
        "\n",
        "## **1. Gaussian distributions:**\n",
        "\n",
        "Consider the Gaussian distribution:\n",
        "\n",
        "$\\rho(x) = A\\,e^{−\\lambda\\,(x−a)^2}$\n",
        "\n",
        "where: $A = \\sqrt{\\frac{\\lambda}{\\pi}}$, $a$, $\\lambda$ are positive real constants.\n",
        "\n",
        "Sketch $\\rho(x)$ versus $x$ for different values of $A$, $a$ and $\\lambda$."
      ],
      "metadata": {
        "id": "D2jbBIP2QOs6"
      }
    },
    {
      "cell_type": "code",
      "execution_count": 2,
      "metadata": {
        "id": "50zhlNTBQOGD"
      },
      "outputs": [],
      "source": [
        "import numpy as np\n",
        "import matplotlib.pyplot as plt"
      ]
    },
    {
      "cell_type": "code",
      "source": [
        "# Define a function for a 1D Gaussian\n",
        "\n",
        "def rho_x(l, a, x):\n",
        "  \"\"\"\n",
        "  This is a function to compute Gaussian PDFs.\n",
        "  Inputs: l -> lambda, a -> x displacement, x -> vector\n",
        "  \"\"\"\n",
        "  pdf_x = np.sqrt(l/np.pi)*np.exp(-l*(x - a)**2)\n",
        "\n",
        "  return pdf_x\n"
      ],
      "metadata": {
        "id": "1NK3kmyfuZzl"
      },
      "execution_count": 3,
      "outputs": []
    },
    {
      "cell_type": "code",
      "source": [
        "#help(rho_x)\n",
        "\n",
        "# Define an x vector\n",
        "x = np.linspace(-10., 10., 1000)\n",
        "\n",
        "#print(x.shape)\n",
        "\n",
        "# Define the constants\n",
        "l_1 = 2.\n",
        "a_1 = 0.5\n",
        "\n",
        "# Evaluate the function using x\n",
        "y = rho_x(l_1, a_1, x)"
      ],
      "metadata": {
        "id": "kOvkE0YSuZ25"
      },
      "execution_count": 9,
      "outputs": []
    },
    {
      "cell_type": "code",
      "source": [
        "# Plotting\n",
        "\n",
        "plt.figure(figsize=(5,4))\n",
        "\n",
        "plt.plot(x, y)\n",
        "\n",
        "plt.xlabel(r\"$x$\")\n",
        "plt.ylabel(r\"$\\rho(x)$\")\n",
        "\n",
        "plt.show()"
      ],
      "metadata": {
        "colab": {
          "base_uri": "https://localhost:8080/",
          "height": 388
        },
        "id": "NVq-38XguZ5n",
        "outputId": "2d9fbf08-57eb-4c28-8a8e-8273f781fbf9"
      },
      "execution_count": 14,
      "outputs": [
        {
          "output_type": "display_data",
          "data": {
            "text/plain": [
              "<Figure size 500x400 with 1 Axes>"
            ],
            "image/png": "[encoded data removed]"
          },
          "metadata": {}
        }
      ]
    },
    {
      "cell_type": "markdown",
      "source": [
        "## **2. Piece-wise Wavefunctions:**\n",
        "\n",
        "Sketch the following $\\Psi(x)$ at $t=0$:\n",
        "\n",
        "$$\\Psi(x,0)=\\left\\{\n",
        "\\begin{array}{ll}\n",
        "      A(x/a) & 0 \\leq x \\leq a \\\\\n",
        "      A(b-x)/(b-a) & a \\leq x \\leq b \\\\\n",
        "      0 & a<0 \\\\\n",
        "\\end{array}\n",
        "\\right. $$\n",
        "\n",
        "\n"
      ],
      "metadata": {
        "id": "rpsC443RTI4l"
      }
    },
    {
      "cell_type": "code",
      "source": [],
      "metadata": {
        "id": "0bPs8ih_TQfL"
      },
      "execution_count": null,
      "outputs": []
    },
    {
      "cell_type": "markdown",
      "source": [
        "## **3. Time-dependent Wavefunction:**\n",
        "\n",
        "Consider the wave function:\n",
        "\n",
        "$\\Psi(x,t) = A\\,e^{-\\lambda|\\,x|}\\,e^{-i\\omega t}$\n",
        "\n",
        "where $A=\\sqrt{\\lambda}$, $\\lambda$, and $\\omega$ are positive real constants.\n",
        "\n",
        "Sketch $|\\Psi|^2$ versus $x$ for $\\lambda$ different values, and different times."
      ],
      "metadata": {
        "id": "RdgvyqK-UkYZ"
      }
    },
    {
      "cell_type": "code",
      "source": [],
      "metadata": {
        "id": "mc2zPjMPUots"
      },
      "execution_count": null,
      "outputs": []
    },
    {
      "cell_type": "markdown",
      "source": [
        "## **4. 1D Gaussian wavepacket**\n",
        "\n",
        "$$\\psi(x) = A\\,e^{-\\frac{x^2}{2\\sigma^2}}\\sin(kx)$$"
      ],
      "metadata": {
        "id": "5CxY8nCYWSoW"
      }
    },
    {
      "cell_type": "code",
      "source": [],
      "metadata": {
        "id": "d86ERxPMs5w9"
      },
      "execution_count": null,
      "outputs": []
    },
    {
      "cell_type": "markdown",
      "source": [
        "## **5. 2D Gaussian function**\n",
        "\n",
        "$$f(x,y) = \\frac{1}{2\\pi\\sigma_x\\sigma_y} \\exp\\left(-\\left(\\frac{(x - x_0)^2}{2\\sigma_X^2} + \\frac{(y - y_0)^2}{2\\sigma_Y^2} \\right)\\right).$$"
      ],
      "metadata": {
        "id": "tp4ZY3o5VLLs"
      }
    },
    {
      "cell_type": "code",
      "source": [],
      "metadata": {
        "id": "mv3dttlgVQdi"
      },
      "execution_count": null,
      "outputs": []
    }
  ]
}