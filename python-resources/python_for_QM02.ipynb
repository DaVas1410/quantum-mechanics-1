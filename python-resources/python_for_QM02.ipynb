{
  "nbformat": 4,
  "nbformat_minor": 0,
  "metadata": {
    "colab": {
      "provenance": [],
      "authorship_tag": "ABX9TyN1b0hmAMTXxf2OXgaPXOor",
      "include_colab_link": true
    },
    "kernelspec": {
      "name": "python3",
      "display_name": "Python 3"
    },
    "language_info": {
      "name": "python"
    }
  },
  "cells": [
    {
      "cell_type": "markdown",
      "metadata": {
        "id": "view-in-github",
        "colab_type": "text"
      },
      "source": [
        "<a href=\"https://colab.research.google.com/github/wbandabarragan/quantum-mechanics-1/blob/main/python-resources/python_for_QM02.ipynb\" target=\"_parent\"><img src=\"https://colab.research.google.com/assets/colab-badge.svg\" alt=\"Open In Colab\"/></a>"
      ]
    },
    {
      "cell_type": "markdown",
      "source": [
        "# Tutorial 2: Python for Quantum Mechanics\n",
        "\n",
        "# Black body radiation:\n",
        "\n",
        "## Problem 1\n",
        "\n",
        "1. Write python functions to compute the spectral radiance of a body for different frequencies, $\\nu$, and different (absolute) temperatures, $T$, according to the Rayleigh-Jeans and the Planck laws.\n",
        "\n",
        "\n",
        "2. Add a label indicating the UV side of the spectrum.\n",
        "\n",
        "\n",
        "3. Now, make the plots of spectral radiance versus wavelength, also for both laws.\n",
        "\n",
        "\n",
        "4. Repeat the plot adding markers to show the expectation values according to Wien's displacement law for a couple of temperature-wavelength pairs."
      ],
      "metadata": {
        "id": "XbDrTy5FEPDX"
      }
    },
    {
      "cell_type": "code",
      "source": [
        "# Import libraries\n",
        "import numpy as np\n",
        "import matplotlib.pyplot as plt\n",
        "import scipy.constants as cte"
      ],
      "metadata": {
        "id": "dasrI0LAur3C"
      },
      "execution_count": 1,
      "outputs": []
    },
    {
      "cell_type": "markdown",
      "source": [
        "### Rayleigh-Jeans law (classical equation):\n",
        "\n",
        "$$B_{\\lambda}= \\frac{2ck_BT}{\\lambda^4} $$"
      ],
      "metadata": {
        "id": "ELCZIhcMEycm"
      }
    },
    {
      "cell_type": "code",
      "source": [
        "# CM law\n",
        "\n",
        "def rayleigh(lb, tb):\n",
        "  \"\"\"\n",
        "  This returns spectral radiances based on CM.\n",
        "  Inputs: lb -> lambda (wavelength)\n",
        "          tb -> temperature\n",
        "  Output: bl -> spectral radiance\n",
        "  \"\"\"\n",
        "\n",
        "  bl = (2*c*kb*tb)/(lb**4)\n",
        "\n",
        "  return bl\n",
        "\n"
      ],
      "metadata": {
        "id": "5eJhpGX7xkQa"
      },
      "execution_count": 2,
      "outputs": []
    },
    {
      "cell_type": "code",
      "source": [
        "# Physical constants\n",
        "\n",
        "c = cte.c # light speed\n",
        "kb = cte.k # Boltzmann constant\n",
        "\n",
        "#print(kb)\n"
      ],
      "metadata": {
        "id": "GNiZaypAyHPI"
      },
      "execution_count": 5,
      "outputs": []
    },
    {
      "cell_type": "code",
      "source": [
        "# Vectors for wavelengths and temp\n",
        "\n",
        "lb = np.arange(1.e-9, 5.e-6, 1.e-9) # in m\n",
        "\n",
        "# Fix the temperature\n",
        "tb = 5000. # in K"
      ],
      "metadata": {
        "id": "8KvRQytCyxB7"
      },
      "execution_count": 6,
      "outputs": []
    },
    {
      "cell_type": "code",
      "source": [
        "# Get the CM spectral radiance\n",
        "\n",
        "sr_cm = rayleigh(lb, tb)\n",
        "\n",
        "print(lb.shape, sr_cm.shape)"
      ],
      "metadata": {
        "colab": {
          "base_uri": "https://localhost:8080/"
        },
        "id": "IUuRGnC0ynMz",
        "outputId": "fdfe7491-ba19-46ff-f6e1-eb786d7716d0"
      },
      "execution_count": 19,
      "outputs": [
        {
          "output_type": "stream",
          "name": "stdout",
          "text": [
            "(4999,) (4999,)\n"
          ]
        }
      ]
    },
    {
      "cell_type": "code",
      "source": [
        "# Plotting the CM law:\n",
        "\n",
        "plt.figure(figsize=(6,5))\n",
        "\n",
        "plt.plot(lb, sr_cm, color = \"red\", linestyle = \"-.\", label =r\"$CM: 5000\\,\\rm K$\")\n",
        "\n",
        "plt.ylim(0, 5.e13)\n",
        "\n",
        "plt.xlabel(r\"$\\lambda$\")\n",
        "plt.ylabel(r\"$B_{\\lambda}$\")\n",
        "\n",
        "plt.legend()\n",
        "\n",
        "plt.show()\n",
        "\n"
      ],
      "metadata": {
        "colab": {
          "base_uri": "https://localhost:8080/",
          "height": 481
        },
        "id": "MLcc24_bzR-7",
        "outputId": "6bdc6a4e-2034-487d-adb8-9ee7949a9dd9"
      },
      "execution_count": 20,
      "outputs": [
        {
          "output_type": "display_data",
          "data": {
            "text/plain": [
              "<Figure size 600x500 with 1 Axes>"
            ],
            "image/png": "[encoded data removed]"
          },
          "metadata": {}
        }
      ]
    },
    {
      "cell_type": "markdown",
      "source": [
        "### Planck's law:\n",
        "\n",
        "$$B_\\lambda =\\frac{2hc^2}{\\lambda^5}\\frac 1{ \\exp\\left(\\frac{hc}{\\lambda k_\\mathrm B T}\\right) - 1}$$"
      ],
      "metadata": {
        "id": "1Sq2jFJfHmQz"
      }
    },
    {
      "cell_type": "code",
      "source": [
        "# Physical constant\n",
        "\n",
        "h = cte.h\n",
        "\n",
        "print(h)"
      ],
      "metadata": {
        "colab": {
          "base_uri": "https://localhost:8080/"
        },
        "id": "8tiLb90j0agm",
        "outputId": "6823953e-cbcf-48eb-9bbb-6a5efddbfb86"
      },
      "execution_count": 16,
      "outputs": [
        {
          "output_type": "stream",
          "name": "stdout",
          "text": [
            "6.62607015e-34\n"
          ]
        }
      ]
    },
    {
      "cell_type": "code",
      "source": [
        "# QM law\n",
        "\n",
        "def planck(lb, tb):\n",
        "  \"\"\"\n",
        "  This returns spectral radiances based on QM.\n",
        "  Inputs: lb -> lambda (wavelength)\n",
        "          tb -> temperature\n",
        "  Output: bl -> spectral radiance\n",
        "  \"\"\"\n",
        "\n",
        "  bl = ((2*h*c**2)/(lb**5))*(1./(np.exp(h*c/(lb*kb*tb))- 1.))\n",
        "\n",
        "  return bl"
      ],
      "metadata": {
        "id": "cCKzuNxJ0Na7"
      },
      "execution_count": 17,
      "outputs": []
    },
    {
      "cell_type": "code",
      "source": [
        "# Get the QM spectral radiance\n",
        "\n",
        "sr_qm = planck(lb, tb)\n",
        "\n",
        "print(lb.shape, sr_cm.shape)"
      ],
      "metadata": {
        "colab": {
          "base_uri": "https://localhost:8080/"
        },
        "id": "8Kz56GGN08lC",
        "outputId": "aabb13f3-56dd-4300-84d1-33f7b743eadf"
      },
      "execution_count": 21,
      "outputs": [
        {
          "output_type": "stream",
          "name": "stdout",
          "text": [
            "(4999,) (4999,)\n"
          ]
        },
        {
          "output_type": "stream",
          "name": "stderr",
          "text": [
            "<ipython-input-17-7802f07f6b64>:11: RuntimeWarning: overflow encountered in exp\n",
            "  bl = ((2*h*c**2)/(lb**5))*(1./(np.exp(h*c/(lb*kb*tb))- 1.))\n"
          ]
        }
      ]
    },
    {
      "cell_type": "code",
      "source": [
        "# Plotting the QM law:\n",
        "\n",
        "plt.figure(figsize=(6,5))\n",
        "\n",
        "plt.plot(lb, sr_qm, color = \"blue\", linestyle = \"--\", label =r\"$QM: 5000\\,\\rm K$\")\n",
        "\n",
        "plt.ylim(0, 2.e13)\n",
        "\n",
        "plt.xlabel(r\"$\\lambda$\")\n",
        "plt.ylabel(r\"$B_{\\lambda}$\")\n",
        "\n",
        "plt.legend()\n",
        "\n",
        "plt.show()"
      ],
      "metadata": {
        "colab": {
          "base_uri": "https://localhost:8080/",
          "height": 481
        },
        "id": "vJijv9nV1JOa",
        "outputId": "0643aff0-c7f0-4606-d63b-ab2b6b266743"
      },
      "execution_count": 28,
      "outputs": [
        {
          "output_type": "display_data",
          "data": {
            "text/plain": [
              "<Figure size 600x500 with 1 Axes>"
            ],
            "image/png": "[encoded data removed]"
          },
          "metadata": {}
        }
      ]
    },
    {
      "cell_type": "markdown",
      "source": [
        "### Comparison between CM and QM:"
      ],
      "metadata": {
        "id": "06TMh_1rIiqQ"
      }
    },
    {
      "cell_type": "code",
      "source": [
        "# Plotting the QM law:\n",
        "\n",
        "plt.figure(figsize=(6,5))\n",
        "\n",
        "plt.plot(lb, sr_cm, color = \"red\", linestyle = \"-.\", label =r\"$CM: 5000\\,\\rm K$\")\n",
        "plt.plot(lb, sr_qm, color = \"blue\", linestyle = \"--\", label =r\"$QM: 5000\\,\\rm K$\")\n",
        "\n",
        "plt.ylim(0, 2.e13)\n",
        "\n",
        "plt.xlabel(r\"$\\lambda$\")\n",
        "plt.ylabel(r\"$B_{\\lambda}$\")\n",
        "\n",
        "plt.legend()\n",
        "\n",
        "plt.show()"
      ],
      "metadata": {
        "colab": {
          "base_uri": "https://localhost:8080/",
          "height": 481
        },
        "id": "RaVSwjmB1UT0",
        "outputId": "24e0ded6-4661-41ed-a06e-af365f5d354b"
      },
      "execution_count": 30,
      "outputs": [
        {
          "output_type": "display_data",
          "data": {
            "text/plain": [
              "<Figure size 600x500 with 1 Axes>"
            ],
            "image/png": "[encoded data removed]"
          },
          "metadata": {}
        }
      ]
    },
    {
      "cell_type": "markdown",
      "source": [
        "# Wien's displacement:\n",
        "\n",
        "$$\\lambda_{\\rm peak} = \\frac{b}{T}$$\n",
        "\n",
        "where: $b = 2.898\\times 10^{-3}\\,\\rm K\\,m$"
      ],
      "metadata": {
        "id": "qt3DfUIoKqmq"
      }
    },
    {
      "cell_type": "markdown",
      "source": [
        "## Problem 2 (statistical distributions):\n",
        "\n",
        "Imagine a room containing fourteen people, whose ages are as follows: one person aged 14, one person aged 15, three people aged 16, two people aged 22, two people aged 24, five people aged 25.\n",
        "\n",
        "(a) Compute $<j>^2$ and $<j^2>$.\n",
        "\n",
        "(b) Compute the $\\sqrt{<j^2> - <j>^2}$\n",
        "\n",
        "(c) Compute the standard deviation and compare with (b)."
      ],
      "metadata": {
        "id": "4bVR0xWgXIi5"
      }
    },
    {
      "cell_type": "markdown",
      "source": [
        "### Average:"
      ],
      "metadata": {
        "id": "OBOEy03pXnGR"
      }
    },
    {
      "cell_type": "markdown",
      "source": [
        "### Average of the square:"
      ],
      "metadata": {
        "id": "DHVT2FdSXza_"
      }
    },
    {
      "cell_type": "markdown",
      "source": [
        "### Standard deviation with formula:"
      ],
      "metadata": {
        "id": "YMkEYZkoX2X3"
      }
    },
    {
      "cell_type": "markdown",
      "source": [
        "### Standard deviation with Numpy:"
      ],
      "metadata": {
        "id": "S7MRKphYX6KH"
      }
    },
    {
      "cell_type": "code",
      "source": [],
      "metadata": {
        "id": "oOZpHVbqXvFs"
      },
      "execution_count": null,
      "outputs": []
    }
  ]
}