{
  "nbformat": 4,
  "nbformat_minor": 0,
  "metadata": {
    "colab": {
      "provenance": [],
      "authorship_tag": "ABX9TyM/itPYN+G0bYy9BiQ3gYrk",
      "include_colab_link": true
    },
    "kernelspec": {
      "name": "python3",
      "display_name": "Python 3"
    },
    "language_info": {
      "name": "python"
    }
  },
  "cells": [
    {
      "cell_type": "markdown",
      "metadata": {
        "id": "view-in-github",
        "colab_type": "text"
      },
      "source": [
        "<a href=\"https://colab.research.google.com/github/wbandabarragan/quantum-mechanics-1/blob/main/python-resources/python_for_QM02.ipynb\" target=\"_parent\"><img src=\"https://colab.research.google.com/assets/colab-badge.svg\" alt=\"Open In Colab\"/></a>"
      ]
    },
    {
      "cell_type": "markdown",
      "source": [
        "Tutorial 1: Python for Quantum Mechanics\n",
        "\n",
        "# Black body radiation:\n",
        "\n",
        "## Problem 1\n",
        "\n",
        "1. Write python functions to compute the spectral radiance of a body for different frequencies, $\\nu$, and different (absolute) temperatures, $T$, according to the Rayleigh-Jeans and the Planck laws.\n",
        "\n",
        "\n",
        "2. Add a label indicating the UV side of the spectrum.\n",
        "\n",
        "\n",
        "3. Now, make the plots of spectral radiance versus wavelength, also for both laws.\n",
        "\n",
        "\n",
        "4. Repeat the plot adding markers to show the expectation values according to Wien's displacement law for a couple of temperature-wavelength pairs."
      ],
      "metadata": {
        "id": "XbDrTy5FEPDX"
      }
    },
    {
      "cell_type": "markdown",
      "source": [
        "### Rayleigh-Jeans law (classical equation):\n",
        "\n",
        "$$B_{\\lambda}= \\frac{2ck_BT}{\\lambda^4} $$"
      ],
      "metadata": {
        "id": "ELCZIhcMEycm"
      }
    },
    {
      "cell_type": "markdown",
      "source": [
        "### Planck's law:\n",
        "\n",
        "$$B_\\lambda =\\frac{2hc^2}{\\lambda^5}\\frac 1{ \\exp\\left(\\frac{hc}{\\lambda k_\\mathrm B T}\\right) - 1}$$"
      ],
      "metadata": {
        "id": "1Sq2jFJfHmQz"
      }
    },
    {
      "cell_type": "markdown",
      "source": [
        "### Comparison between CM and QM:"
      ],
      "metadata": {
        "id": "06TMh_1rIiqQ"
      }
    },
    {
      "cell_type": "markdown",
      "source": [
        "# Wien's displacement:\n",
        "\n",
        "$$\\lambda_{\\rm peak} = \\frac{b}{T}$$\n",
        "\n",
        "where: $b = 2.898\\times 10^{-3}\\,\\rm K\\,m$"
      ],
      "metadata": {
        "id": "qt3DfUIoKqmq"
      }
    },
    {
      "cell_type": "markdown",
      "source": [
        "## Problem 2 (statistical distributions):\n",
        "\n",
        "Imagine a room containing fourteen people, whose ages are as follows: one person aged 14, one person aged 15, three people aged 16, two people aged 22, two people aged 24, five people aged 25.\n",
        "\n",
        "(a) Compute $<j>^2$ and $<j^2>$.\n",
        "\n",
        "(b) Compute the $\\sqrt{<j^2> - <j>^2}$\n",
        "\n",
        "(c) Compute the standard deviation and compare with (b)."
      ],
      "metadata": {
        "id": "4bVR0xWgXIi5"
      }
    },
    {
      "cell_type": "markdown",
      "source": [
        "### Average:"
      ],
      "metadata": {
        "id": "OBOEy03pXnGR"
      }
    },
    {
      "cell_type": "markdown",
      "source": [
        "### Average of the square:"
      ],
      "metadata": {
        "id": "DHVT2FdSXza_"
      }
    },
    {
      "cell_type": "markdown",
      "source": [
        "### Standard deviation with formula:"
      ],
      "metadata": {
        "id": "YMkEYZkoX2X3"
      }
    },
    {
      "cell_type": "markdown",
      "source": [
        "### Standard deviation with Numpy:"
      ],
      "metadata": {
        "id": "S7MRKphYX6KH"
      }
    },
    {
      "cell_type": "code",
      "source": [],
      "metadata": {
        "id": "oOZpHVbqXvFs"
      },
      "execution_count": null,
      "outputs": []
    }
  ]
}