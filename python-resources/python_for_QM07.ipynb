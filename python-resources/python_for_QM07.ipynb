{
  "cells": [
    {
      "cell_type": "markdown",
      "metadata": {
        "id": "view-in-github",
        "colab_type": "text"
      },
      "source": [
        "<a href=\"https://colab.research.google.com/github/wbandabarragan/quantum-mechanics-1/blob/main/python-resources/python_for_QM07.ipynb\" target=\"_parent\"><img src=\"https://colab.research.google.com/assets/colab-badge.svg\" alt=\"Open In Colab\"/></a>"
      ]
    },
    {
      "cell_type": "markdown",
      "id": "db574934",
      "metadata": {
        "id": "db574934"
      },
      "source": [
        "# Tutorial 7: Python for Quantum Mechanics\n",
        "\n",
        "## Exercise: solving eigenvalue problems\n",
        "\n",
        "$$\\newcommand{\\ket}[1]{\\left|{#1}\\right\\rangle}$$\n",
        "$$\\newcommand{\\bra}[1]{\\left\\langle{#1}\\right|}$$\n",
        "$$\\newcommand{\\braket}[2]{\\left\\langle{#1}\\middle|{#2}\\right\\rangle}$$\n",
        "\n",
        "Consider a quantum system in a state, $\\ket{\\Psi}$:\n",
        "\n",
        "$\\Psi = \\frac{1}{\\sqrt{3}}\\left[\\begin{array}{@{}c@{}}\n",
        "    i \\\\\n",
        "    -i \\\\\n",
        "    i\n",
        "    \\end{array} \\right]$\n",
        "    \n",
        "The Hamiltonian is represented by the matrix shown below:\n",
        "\n",
        "\n",
        "$\\hat{H} = \\left[\\begin{array}{@{ }c@{\\kern2em} c@{\\kern2em} c@{ }}\n",
        "2 & 1 & 0\\\\\n",
        "1 & 2 & 0\\\\\n",
        "0 & 0 & 3\n",
        "\\end{array} \\right]$\n",
        "\n",
        "(a) Determine the eigenvalues and eigenvectors of $\\hat{H}$. What do the eigenvalues represent?\n",
        "\n",
        "\n",
        "(b) Which eigenvalue of $\\hat{H}$ is most likely to emerge from a measurement?\n",
        "\n",
        "\n",
        "(c) Find $\\langle H \\rangle$, $\\langle H^2 \\rangle$, and $\\sigma_H$.\n"
      ]
    },
    {
      "cell_type": "markdown",
      "id": "a07303bc",
      "metadata": {
        "id": "a07303bc"
      },
      "source": [
        "### Solution:\n",
        "\n",
        "(a) Determine the eigenvalues and eigenvectors of $\\hat{H}$. What do the eigenvalues represent?\n",
        "\n",
        "$\\hat{H} = \\left[\\begin{array}{@{ }c@{\\kern2em} c@{\\kern2em} c@{ }}\n",
        "2 & 1 & 0\\\\\n",
        "1 & 2 & 0\\\\\n",
        "0 & 0 & 3\n",
        "\\end{array} \\right]$"
      ]
    },
    {
      "cell_type": "markdown",
      "id": "ed338d07",
      "metadata": {
        "id": "ed338d07"
      },
      "source": [
        "(b) Which eigenvalue of $\\hat{H}$ is most likely to emerge from a measurement?\n",
        "\n"
      ]
    },
    {
      "cell_type": "markdown",
      "id": "bedbbc4c",
      "metadata": {
        "id": "bedbbc4c"
      },
      "source": [
        "$$\\newcommand{\\ket}[1]{\\left|{#1}\\right\\rangle}$$\n",
        "$$\\newcommand{\\bra}[1]{\\left\\langle{#1}\\right|}$$\n",
        "$$\\newcommand{\\braket}[2]{\\left\\langle{#1}\\middle|{#2}\\right\\rangle}$$\n",
        "\n",
        "$\\Psi = \\frac{1}{\\sqrt{3}}\\left[\\begin{array}{@{}c@{}}\n",
        "    i \\\\\n",
        "    -i \\\\\n",
        "    i\n",
        "    \\end{array} \\right]$"
      ]
    },
    {
      "cell_type": "markdown",
      "id": "af2a5376",
      "metadata": {
        "id": "af2a5376"
      },
      "source": [
        "### Eigenvectors"
      ]
    },
    {
      "cell_type": "markdown",
      "id": "9b1bd3a0",
      "metadata": {
        "id": "9b1bd3a0"
      },
      "source": [
        "$\\langle 1 |\\psi \\rangle$\n"
      ]
    },
    {
      "cell_type": "markdown",
      "id": "1cd42cb1",
      "metadata": {
        "id": "1cd42cb1"
      },
      "source": [
        "The most likely is $E_1 = 3$ for $\\ket{\\psi_1}=[ 0.70710678, -0.70710678 , 0.        ]$"
      ]
    },
    {
      "cell_type": "markdown",
      "id": "a3e69df8",
      "metadata": {
        "id": "a3e69df8"
      },
      "source": [
        "\n",
        "(c) Find $\\langle H \\rangle$, $\\langle H^2 \\rangle$, and $\\sigma_H$.\n",
        "\n",
        "\n",
        "$\\langle H \\rangle$ = $\\langle \\psi | H | \\psi \\rangle$"
      ]
    },
    {
      "cell_type": "markdown",
      "id": "d30f2ba0",
      "metadata": {
        "id": "d30f2ba0"
      },
      "source": [
        "$\\langle H^2 \\rangle$ = $\\langle \\psi | H^2 | \\psi \\rangle$"
      ]
    },
    {
      "cell_type": "markdown",
      "id": "3ad7ba96",
      "metadata": {
        "id": "3ad7ba96"
      },
      "source": [
        "### Uncertianty:\n",
        "\n",
        "$\\sigma_H = \\sqrt{\\langle H^2 \\rangle - \\langle H\\rangle^2}$"
      ]
    }
  ],
  "metadata": {
    "kernelspec": {
      "display_name": "Python 3 (ipykernel)",
      "language": "python",
      "name": "python3"
    },
    "language_info": {
      "codemirror_mode": {
        "name": "ipython",
        "version": 3
      },
      "file_extension": ".py",
      "mimetype": "text/x-python",
      "name": "python",
      "nbconvert_exporter": "python",
      "pygments_lexer": "ipython3",
      "version": "3.7.16"
    },
    "colab": {
      "provenance": [],
      "include_colab_link": true
    }
  },
  "nbformat": 4,
  "nbformat_minor": 5
}