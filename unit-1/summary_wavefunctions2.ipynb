{
  "nbformat": 4,
  "nbformat_minor": 0,
  "metadata": {
    "colab": {
      "provenance": [],
      "authorship_tag": "ABX9TyMbwpejNaD0CZK5758qYunO",
      "include_colab_link": true
    },
    "kernelspec": {
      "name": "python3",
      "display_name": "Python 3"
    },
    "language_info": {
      "name": "python"
    }
  },
  "cells": [
    {
      "cell_type": "markdown",
      "metadata": {
        "id": "view-in-github",
        "colab_type": "text"
      },
      "source": [
        "<a href=\"https://colab.research.google.com/github/wbandabarragan/quantum-mechanics-1/blob/main/unit-1/summary_wavefunctions2.ipynb\" target=\"_parent\"><img src=\"https://colab.research.google.com/assets/colab-badge.svg\" alt=\"Open In Colab\"/></a>"
      ]
    },
    {
      "cell_type": "markdown",
      "source": [
        "## B) Infinite square well potential:\n",
        "\n",
        "The potential, $V(x)$, is given by the following piecewise function:\n",
        "\n",
        "$   \n",
        "V(x)= \n",
        "     \\begin{cases}\n",
        "       0, & 0 \\leq x \\leq a\\\\\n",
        "       \\infty, & \\rm elsewhere\\\\\n",
        "     \\end{cases}\n",
        "$\n",
        "\n",
        "### Solution:\n",
        "\n",
        "$\\psi_n(x) = \\sqrt{\\frac{2}{a}} \\sin\\left(\\frac{n\\pi}{a}x\\right)$\n",
        "\n",
        "with:\n",
        "\n",
        "$E_n = \\frac{n^2\\hbar^2\\pi^2}{2ma^2}$\n"
      ],
      "metadata": {
        "id": "I4N5xySYifPi"
      }
    },
    {
      "cell_type": "code",
      "execution_count": 3,
      "metadata": {
        "id": "BueFW6DQiLUS"
      },
      "outputs": [],
      "source": [
        "import numpy as np\n",
        "import matplotlib.pyplot as plt\n",
        "import scipy.constants as cte"
      ]
    },
    {
      "cell_type": "code",
      "source": [
        "# Physical quantities\n",
        "# https://docs.scipy.org/doc/scipy/reference/constants.html\n",
        "\n",
        "# Define our SI constants\n",
        "hbar = cte.hbar\n",
        "\n",
        "# Let's consider that our particle is an e-\n",
        "me = cte.m_e\n",
        "\n",
        "# Width of the potential:\n",
        "a = 5e-10 # in m = 5A = 0.5nm"
      ],
      "metadata": {
        "id": "LYWwNKu0jDF_"
      },
      "execution_count": 4,
      "outputs": []
    },
    {
      "cell_type": "markdown",
      "source": [
        "# Plot potential:\n",
        "\n",
        "$   \n",
        "V(x)= \n",
        "     \\begin{cases}\n",
        "       0, & 0 \\leq x \\leq a\\\\\n",
        "       \\infty, & \\rm elsewhere\\\\\n",
        "     \\end{cases}\n",
        "$"
      ],
      "metadata": {
        "id": "IcIfkQznkAhF"
      }
    },
    {
      "cell_type": "code",
      "source": [
        "# Define piece-wise function\n",
        "\n",
        "def V_function(x, a):\n",
        "\n",
        "  if(0 <= x <= a):\n",
        "    return 0\n",
        "  else:\n",
        "    return 10000"
      ],
      "metadata": {
        "id": "iHST5I5sj1-0"
      },
      "execution_count": 5,
      "outputs": []
    },
    {
      "cell_type": "code",
      "source": [
        "# Vector for x:\n",
        "x = np.arange(-3e-10, +8e-10, 1.e-11)\n",
        "#print(x.shape)\n",
        "\n",
        "# Evaluate the function\n",
        "# Empty list\n",
        "\n",
        "y = []\n",
        "\n",
        "for i in range(len(x)):\n",
        "  y.append(V_function(x[i], a))\n",
        "\n",
        "y = np.array(y)\n",
        "print(x.shape, y.shape)"
      ],
      "metadata": {
        "colab": {
          "base_uri": "https://localhost:8080/"
        },
        "id": "5n99o3Aiky0R",
        "outputId": "53c66c3f-b13e-4078-a206-9cc74a1dcbf1"
      },
      "execution_count": 9,
      "outputs": [
        {
          "output_type": "stream",
          "name": "stdout",
          "text": [
            "(110,) (110,)\n"
          ]
        }
      ]
    },
    {
      "cell_type": "code",
      "source": [
        "# Plotting\n",
        "\n",
        "plt.figure(figsize = (6, 5))\n",
        "plt.plot(x, y)\n",
        "plt.ylim(0, 1000)\n",
        "plt.xlabel(r\"$x$\")\n",
        "plt.ylabel(r\"$V(x)$\")\n",
        "plt.show()"
      ],
      "metadata": {
        "colab": {
          "base_uri": "https://localhost:8080/",
          "height": 338
        },
        "id": "sPEAgYPWlEme",
        "outputId": "05998ad6-496f-4681-b464-0fa999c15454"
      },
      "execution_count": 13,
      "outputs": [
        {
          "output_type": "display_data",
          "data": {
            "text/plain": [
              "<Figure size 432x360 with 1 Axes>"
            ],
            "image/png": "[encoded data removed]"
          },
          "metadata": {
            "needs_background": "light"
          }
        }
      ]
    },
    {
      "cell_type": "markdown",
      "source": [
        "### Solution:\n",
        "\n",
        "$\\psi_n(x) = \\sqrt{\\frac{2}{a}} \\sin\\left(\\frac{n\\pi}{a}x\\right)$"
      ],
      "metadata": {
        "id": "eGB9UyjMmGuZ"
      }
    },
    {
      "cell_type": "code",
      "source": [
        "# Define piece-wise function for psi\n",
        "\n",
        "def psi_function(x, a, n):\n",
        "\n",
        "  if(0 <= x <= a):\n",
        "    psi_n = np.sqrt(2/a)*np.sin(n*np.pi*x/a)\n",
        "    return psi_n\n",
        "  else:\n",
        "    return 0"
      ],
      "metadata": {
        "id": "GPKJDsDplodf"
      },
      "execution_count": 14,
      "outputs": []
    },
    {
      "cell_type": "code",
      "source": [
        "# Call the function for psi_n\n",
        "\n",
        "# Evaluate the function\n",
        "# Empty list for n=1\n",
        "psi_1 = []\n",
        "\n",
        "for i in range(len(x)):\n",
        "  psi_1.append(psi_function(x[i], a, 1))\n",
        "\n",
        "psi_1 = np.array(psi_1)\n",
        "\n",
        "# Empty list for n=2\n",
        "psi_2 = []\n",
        "\n",
        "for i in range(len(x)):\n",
        "  psi_2.append(psi_function(x[i], a, 2))\n",
        "\n",
        "psi_2 = np.array(psi_2)\n",
        "\n",
        "# Empty list for n=3\n",
        "psi_3 = []\n",
        "\n",
        "for i in range(len(x)):\n",
        "  psi_3.append(psi_function(x[i], a, 3))\n",
        "\n",
        "psi_3 = np.array(psi_3)\n",
        "\n",
        "# Empty list for n=3\n",
        "psi_4 = []\n",
        "\n",
        "for i in range(len(x)):\n",
        "  psi_4.append(psi_function(x[i], a, 4))\n",
        "\n",
        "psi_4 = np.array(psi_4)"
      ],
      "metadata": {
        "id": "WtN1zFZPmkJx"
      },
      "execution_count": 20,
      "outputs": []
    },
    {
      "cell_type": "code",
      "source": [
        "# Plotting\n",
        "\n",
        "plt.figure(figsize = (6, 5))\n",
        "plt.plot(x, psi_1)\n",
        "plt.plot(x, psi_2)\n",
        "#plt.ylim(0, 1000)\n",
        "plt.xlabel(r\"$x$\")\n",
        "plt.ylabel(r\"$\\psi(x)$\")\n",
        "plt.show()"
      ],
      "metadata": {
        "colab": {
          "base_uri": "https://localhost:8080/",
          "height": 334
        },
        "id": "aE8dorMhmvVK",
        "outputId": "596abbaf-57a8-4c66-b805-32a425a6206d"
      },
      "execution_count": 19,
      "outputs": [
        {
          "output_type": "display_data",
          "data": {
            "text/plain": [
              "<Figure size 432x360 with 1 Axes>"
            ],
            "image/png": "[encoded data removed]"
          },
          "metadata": {
            "needs_background": "light"
          }
        }
      ]
    },
    {
      "cell_type": "code",
      "source": [
        "# Multi-panel figure, ax = axes\n",
        "\n",
        "fig, ((ax1, ax2), (ax3, ax4)) = plt.subplots(2, 2, figsize = (8,4))\n",
        "\n",
        "ax1.plot(x, psi_1, linestyle = \"-\", color = 'red',  label=r\"$n= 1$\")\n",
        "ax2.plot(x, psi_2, linestyle = \"-\", color = 'magenta', label=r\"n= 2$\")\n",
        "ax3.plot(x, psi_3, linestyle = \"-\", color = 'green', label=r\"$n = 3$\")\n",
        "ax4.plot(x, psi_4, linestyle = \"-\", label=r\"$n= 4$\")\n",
        "\n",
        "ax1.set_ylim(-8e4, +8e4)\n",
        "ax2.set_ylim(-8e4, +8e4)\n",
        "ax3.set_ylim(-8e4, +8e4)\n",
        "ax4.set_ylim(-8e4, +8e4)\n",
        "\n",
        "ax1.legend()\n",
        "ax2.legend()\n",
        "ax3.legend()\n",
        "ax4.legend()\n",
        "\n",
        "plt.show()"
      ],
      "metadata": {
        "colab": {
          "base_uri": "https://localhost:8080/",
          "height": 278
        },
        "id": "rdyRzvkInLwd",
        "outputId": "47cc2bd9-d1fc-4f15-e477-55a2d5419aab"
      },
      "execution_count": 29,
      "outputs": [
        {
          "output_type": "display_data",
          "data": {
            "text/plain": [
              "<Figure size 576x288 with 4 Axes>"
            ],
            "image/png": "[encoded data removed]"
          },
          "metadata": {
            "needs_background": "light"
          }
        }
      ]
    },
    {
      "cell_type": "markdown",
      "source": [
        "### Energy ladder:\n",
        "\n",
        "$E_n = \\frac{n^2\\hbar^2\\pi^2}{2ma^2}$"
      ],
      "metadata": {
        "id": "QxnbCi0-o9H_"
      }
    },
    {
      "cell_type": "code",
      "source": [
        "def En_function(n):\n",
        "\n",
        "  en = (n**2*hbar**2*np.pi**2)/(2*me*a**2)\n",
        "\n",
        "  return en\n",
        "\n"
      ],
      "metadata": {
        "id": "SQt5bADPn9hD"
      },
      "execution_count": 30,
      "outputs": []
    },
    {
      "cell_type": "code",
      "source": [
        "# Vector for n\n",
        "\n",
        "n = np.array([1, 2, 3, 4])"
      ],
      "metadata": {
        "id": "DRkhRwY2pZOo"
      },
      "execution_count": 33,
      "outputs": []
    },
    {
      "cell_type": "code",
      "source": [
        "# Evaluate energies:\n",
        "\n",
        "E_n = En_function(n)\n",
        "\n",
        "print(\"Energies in [J]:\", E_n)\n",
        "print(\"Energies in [eV]:\", E_n*6.242e18)"
      ],
      "metadata": {
        "colab": {
          "base_uri": "https://localhost:8080/"
        },
        "id": "R-m134KHpdsS",
        "outputId": "b3934cc6-783c-418e-957e-f9566126b3c2"
      },
      "execution_count": 37,
      "outputs": [
        {
          "output_type": "stream",
          "name": "stdout",
          "text": [
            "Energies in [J]: [2.40986696e-19 9.63946784e-19 2.16888026e-18 3.85578714e-18]\n",
            "Energies in [eV]: [ 1.50423896  6.01695583 13.53815061 24.06782331]\n"
          ]
        }
      ]
    },
    {
      "cell_type": "code",
      "source": [],
      "metadata": {
        "id": "Ey00Vyaupig8"
      },
      "execution_count": null,
      "outputs": []
    }
  ]
}